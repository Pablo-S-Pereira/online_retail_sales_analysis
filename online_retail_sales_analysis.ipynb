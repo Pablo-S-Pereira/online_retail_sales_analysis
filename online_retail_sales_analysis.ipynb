{
 "cells": [
  {
   "cell_type": "markdown",
   "id": "fdabf126",
   "metadata": {},
   "source": [
    "# 🛍️ Análise de Vendas Online (2009–2011)\n",
    "\n",
    "Este projeto tem como objetivo explorar e analisar um conjunto de dados reais de vendas online, abrangendo os anos de 2009 até 2011. A partir das transações registradas, buscamos identificar padrões de comportamento do consumidor, tendências sazonais, produtos de maior destaque e oportunidades de otimização para o negócio.\n",
    "\n",
    "A análise foi dividida em etapas que simulam o fluxo de trabalho de um analista de dados:\n",
    "\n",
    "- 🧹 **Limpeza dos dados:** remoção de registros inválidos e preparação do conjunto para análise.\n",
    "- 📊 **Geração de indicadores-chave (KPIs):** volume de pedidos, receita total, ticket médio, entre outros.\n",
    "- 📈 **Análises temporais e sazonais:** evolução de compras e faturamento ao longo dos meses.\n",
    "- 🎁 **Avaliação de produtos:** itens mais vendidos e com maior impacto financeiro.\n",
    "- 🌍 **Desempenho por país:** análise geográfica das vendas.\n",
    "- 💡 **Conclusões e recomendações:** insights práticos para apoiar decisões estratégicas.\n",
    "\n",
    "Este notebook foi desenvolvido com o intuito de demonstrar habilidades em manipulação de dados com `pandas`, visualização com `matplotlib` e `plotly`, além da capacidade de gerar valor através da análise exploratória e storytelling com dados.\n",
    "\n",
    "---\n"
   ]
  },
  {
   "cell_type": "markdown",
   "id": "78956cf7",
   "metadata": {},
   "source": [
    "## 📄 Sobre a Base de Dados\n",
    "\n",
    "A base utilizada nesta análise é o conjunto de dados **[Online Retail Dataset](https://www.kaggle.com/datasets/lakshmi25npathi/online-retail-dataset)**, disponibilizado no Kaggle. \n",
    "\n",
    "Ela contém transações ocorridas entre dezembro de 2009 e dezembro de 2011, registradas por uma empresa de comércio eletrônico com sede no Reino Unido. Os dados incluem informações como:\n",
    "\n",
    "- Código da fatura (InvoiceNo),\n",
    "- Código e descrição do produto,\n",
    "- Quantidade vendida,\n",
    "- Data da transação,\n",
    "- Valor unitário do produto,\n",
    "- Código e nome do cliente,\n",
    "- País de origem.\n",
    "\n",
    "Essa base é amplamente utilizada para fins educacionais e explorações de dados, e **permite análises reais de comportamento de consumo, sazonalidade, desempenho de produtos e insights geográficos**.\n",
    "\n",
    "Vale destacar que, por ser uma base pública, algumas inconsistências e dados faltantes podem estar presentes e foram tratados ao longo do projeto.\n"
   ]
  },
  {
   "cell_type": "markdown",
   "id": "ee2aa598",
   "metadata": {},
   "source": [
    "## 1. Carregamento dos Dados"
   ]
  },
  {
   "cell_type": "code",
   "execution_count": 1,
   "id": "aa47f988",
   "metadata": {},
   "outputs": [],
   "source": [
    "# Importação das biliotecas que serão utilizadas na análise\n",
    "import pandas as pd\n",
    "import numpy as np\n",
    "import matplotlib.pyplot as plt\n",
    "import plotly.express as px"
   ]
  },
  {
   "cell_type": "code",
   "execution_count": 2,
   "id": "6debc475",
   "metadata": {},
   "outputs": [
    {
     "name": "stderr",
     "output_type": "stream",
     "text": [
      "<>:2: SyntaxWarning: invalid escape sequence '\\o'\n",
      "<>:2: SyntaxWarning: invalid escape sequence '\\o'\n",
      "C:\\Users\\Pablo Pereira\\AppData\\Local\\Temp\\ipykernel_5020\\3653926324.py:2: SyntaxWarning: invalid escape sequence '\\o'\n",
      "  df_path = 'sales_marketplace\\online_retail_II.xlsx'\n"
     ]
    }
   ],
   "source": [
    "# Caminho do arquivo em Excel\n",
    "df_path = 'sales_marketplace\\online_retail_II.xlsx'"
   ]
  },
  {
   "cell_type": "code",
   "execution_count": 3,
   "id": "c8640ddd",
   "metadata": {},
   "outputs": [
    {
     "data": {
      "text/plain": [
       "(1067371, 8)"
      ]
     },
     "execution_count": 3,
     "metadata": {},
     "output_type": "execute_result"
    }
   ],
   "source": [
    "# Realizando a leitura do arquivo e concatenando ambos os DataFrames pois estão em abas diferentes\n",
    "df_1 = pd.read_excel(df_path, sheet_name='Year 2009-2010')\n",
    "df_2 = pd.read_excel(df_path, sheet_name='Year 2010-2011')\n",
    "\n",
    "df_unificado = pd.concat([df_1, df_2])\n",
    "\n",
    "df_unificado.shape"
   ]
  },
  {
   "cell_type": "markdown",
   "id": "4d4fd37b",
   "metadata": {},
   "source": [
    "## 2. Limpeza e Tratamento dos Dados"
   ]
  },
  {
   "cell_type": "code",
   "execution_count": 4,
   "id": "9e152337",
   "metadata": {},
   "outputs": [],
   "source": [
    "# 1. Remover invoices com prefixos 'A' ou 'C'\n",
    "df_cancelamento_ajuste = df_unificado[\n",
    "    df_unificado['Invoice'].str.startswith('C', na=False) |\n",
    "    df_unificado['Invoice'].str.startswith('A', na=False)\n",
    "].copy()\n",
    "\n",
    "# 2. Remover quantidades negativas\n",
    "df_quantity_zero = df_unificado[df_unificado['Quantity'] < 0]\n",
    "\n",
    "# 3. Remover descrições nulas\n",
    "df_description_null = df_unificado[df_unificado['Description'].isnull()]\n",
    "\n",
    "# 4. Remover preços igual a zero\n",
    "df_price_zero = df_unificado[df_unificado['Price'] == 0]\n",
    "\n",
    "# 5. Filtrar StockCodes válidos (5 números + 1 letra)\n",
    "df_stock_code_invalido = df_unificado[~df_unificado['StockCode'].astype(str).str.match(r'^\\d{5}[a-zA-Z]?$')]\n",
    "\n",
    "# 6. Criando indices para realizar a demoção dos index\n",
    "indices_remover = (\n",
    "    df_cancelamento_ajuste.index\n",
    "    .union(df_quantity_zero.index)\n",
    "    .union(df_description_null.index)\n",
    "    .union(df_price_zero.index)\n",
    "    .union(df_stock_code_invalido.index)\n",
    ")\n",
    "\n",
    "# 7. Realizando a remoção dos index\n",
    "df_tratamento = df_unificado.drop(indices_remover).reset_index(drop=True)\n",
    "\n",
    "# 8. Criar coluna de receita\n",
    "df_tratamento['TotalPrice'] = df_tratamento['Quantity'] * df_tratamento['Price']\n",
    "\n",
    "# 9. Converter coluna de data\n",
    "df_tratamento['InvoiceDate'] = pd.to_datetime(df_tratamento['InvoiceDate'])\n",
    "\n",
    "# 10. Criar colunas auxiliares de tempo\n",
    "df_tratamento['Ano'] = df_tratamento['InvoiceDate'].dt.year\n",
    "df_tratamento['Mes'] = df_tratamento['InvoiceDate'].dt.month\n",
    "df_tratamento['AnoMes'] = df_tratamento['InvoiceDate'].dt.to_period('M').astype(str)\n",
    "\n",
    "# 11. Mapeamento de nomes não reconhecidos\n",
    "country_mapping = {\n",
    "    'EIRE': 'Ireland',\n",
    "    'Channel Islands': 'Guernsey',\n",
    "    'RSA': 'South Africa',\n",
    "    'West Indies': 'Caribbean',\n",
    "    'European Community': 'European Union',\n",
    "    'USA': 'United States',\n",
    "    'Korea': 'South Korea',\n",
    "    'UAE': 'United Arab Emirates'\n",
    "}\n",
    "\n",
    "# Substituir no DataFrame principal de tratamento\n",
    "df_tratamento['Country'] = df_tratamento['Country'].replace(country_mapping)\n",
    "\n",
    "# 12. Criando o DF oficial para realização das analises\n",
    "df_sales = df_tratamento"
   ]
  },
  {
   "cell_type": "markdown",
   "id": "42410150",
   "metadata": {},
   "source": [
    "## 3. Visão Geral de Indicadores"
   ]
  },
  {
   "cell_type": "code",
   "execution_count": 5,
   "id": "2002ca3b",
   "metadata": {},
   "outputs": [
    {
     "name": "stdout",
     "output_type": "stream",
     "text": [
      "🧾 Total de pedidos únicos: 39265\n",
      "👥 Total de clientes únicos: 5844\n",
      "🛍️ Total de produtos distintos vendidos: 5353\n",
      "📦 Quantidade total de produtos vendidos: 11058346\n",
      "💷 Receita total: £ 19471924.21\n",
      "🎯 Ticket médio: £ 495.91\n"
     ]
    }
   ],
   "source": [
    "# Resumo Consolidado dos Principais Indicadores de Desempenho da Empresa\n",
    "print(\"🧾 Total de pedidos únicos:\", df_sales['Invoice'].nunique())\n",
    "print(\"👥 Total de clientes únicos:\", df_sales['Customer ID'].nunique())\n",
    "print(\"🛍️ Total de produtos distintos vendidos:\", df_sales['Description'].nunique())\n",
    "print(\"📦 Quantidade total de produtos vendidos:\", df_sales['Quantity'].sum())\n",
    "print(\"💷 Receita total: £\", round(df_sales['TotalPrice'].sum(), 2))\n",
    "print(\"🎯 Ticket médio: £\", round(df_sales.groupby('Invoice')['TotalPrice'].sum().mean(), 2))"
   ]
  },
  {
   "cell_type": "markdown",
   "id": "792a902b",
   "metadata": {},
   "source": [
    "## 4. Análise Temporal e Variação de Resultados"
   ]
  },
  {
   "cell_type": "code",
   "execution_count": 6,
   "id": "4b732a47",
   "metadata": {},
   "outputs": [
    {
     "name": "stdout",
     "output_type": "stream",
     "text": [
      "     AnoMes  TotalPrice\n",
      "0   2009-12   762968.74\n",
      "1   2010-01   587437.71\n",
      "2   2010-02   524871.46\n",
      "3   2010-03   736276.03\n",
      "4   2010-04   627165.74\n",
      "5   2010-05   628854.28\n",
      "6   2010-06   679656.17\n",
      "7   2010-07   614895.82\n",
      "8   2010-08   659628.88\n",
      "9   2010-09   849856.19\n",
      "10  2010-10  1063334.48\n",
      "11  2010-11  1397495.90\n",
      "12  2010-12  1144627.90\n",
      "13  2011-01   645967.44\n",
      "14  2011-02   485660.17\n",
      "15  2011-03   662903.42\n",
      "16  2011-04   501358.04\n",
      "17  2011-05   706441.06\n",
      "18  2011-06   715001.49\n",
      "19  2011-07   660500.26\n",
      "20  2011-08   703173.95\n",
      "21  2011-09  1000658.78\n",
      "22  2011-10  1073832.04\n",
      "23  2011-11  1429504.92\n",
      "24  2011-12   609853.34\n"
     ]
    }
   ],
   "source": [
    "# Realizando um agrupamento de Receita separado por Mes e Ano\n",
    "receita_mes = df_sales.groupby('AnoMes')['TotalPrice'].sum().reset_index()\n",
    "\n",
    "# Visualização dos dados\n",
    "print(receita_mes)"
   ]
  },
  {
   "cell_type": "code",
   "execution_count": 7,
   "id": "eef1dc95",
   "metadata": {},
   "outputs": [
    {
     "name": "stdout",
     "output_type": "stream",
     "text": [
      "     AnoMes  Quantity\n",
      "0   2009-12    410489\n",
      "1   2010-01    366386\n",
      "2   2010-02    373129\n",
      "3   2010-03    512557\n",
      "4   2010-04    355788\n",
      "5   2010-05    386304\n",
      "6   2010-06    397716\n",
      "7   2010-07    329212\n",
      "8   2010-08    465032\n",
      "9   2010-09    571685\n",
      "10  2010-10    602159\n",
      "11  2010-11    711170\n",
      "12  2010-12    522302\n",
      "13  2011-01    371948\n",
      "14  2011-02    269994\n",
      "15  2011-03    362896\n",
      "16  2011-04    299234\n",
      "17  2011-05    376413\n",
      "18  2011-06    374161\n",
      "19  2011-07    386558\n",
      "20  2011-08    409023\n",
      "21  2011-09    554278\n",
      "22  2011-10    604432\n",
      "23  2011-11    734811\n",
      "24  2011-12    310669\n"
     ]
    }
   ],
   "source": [
    "# Realizando um agrupamento de quantidade vendida separada por Mes e Ano\n",
    "quantidade_mes = df_sales.groupby('AnoMes')['Quantity'].sum().reset_index()\n",
    "\n",
    "# Visualizar os dados\n",
    "print(quantidade_mes)"
   ]
  },
  {
   "cell_type": "code",
   "execution_count": 8,
   "id": "6b7ee821",
   "metadata": {},
   "outputs": [
    {
     "data": {
      "image/png": "[encoded data removed]",
      "text/plain": [
       "<Figure size 2000x600 with 1 Axes>"
      ]
     },
     "metadata": {},
     "output_type": "display_data"
    }
   ],
   "source": [
    "# Realizando a criação do gráfico com suas configurações necessárias\n",
    "plt.figure(figsize=(20,6))\n",
    "plt.plot(receita_mes['AnoMes'], receita_mes['TotalPrice'], marker='o', label='Receita', color='green')  # verde\n",
    "plt.plot(quantidade_mes['AnoMes'], quantidade_mes['Quantity'], marker='x', label='Quantidade', color='orangered')  # laranja forte\n",
    "plt.xticks(rotation=45)\n",
    "plt.title('Receita e Quantidade Mensal de Produtos Vendidos')\n",
    "plt.xlabel('Ano-Mês')\n",
    "plt.ylabel('Valores')\n",
    "plt.legend()\n",
    "\n",
    "# Remove o fundo quadriculado (grid)\n",
    "plt.grid(False)\n",
    "\n",
    "# Ajustar deslocamento vertical dos rótulos\n",
    "offset = max(receita_mes['TotalPrice'].max(), quantidade_mes['Quantity'].max()) * 0.02\n",
    "\n",
    "# Realiza a inclusão dos rótulos de dados na linha do gráfico\n",
    "for i, v in enumerate(receita_mes['TotalPrice']):\n",
    "    plt.text(i, v + offset, f'{v:.0f}', ha='center', va='bottom', fontsize=8, color='green')\n",
    "\n",
    "for i, v in enumerate(quantidade_mes['Quantity']):\n",
    "    plt.text(i, v + offset, f'{v:.0f}', ha='center', va='bottom', fontsize=8, color='orangered')\n",
    "\n",
    "plt.show()"
   ]
  },
  {
   "cell_type": "code",
   "execution_count": 9,
   "id": "48dc7e9b",
   "metadata": {},
   "outputs": [],
   "source": [
    "# Realizando um agrupamento de receita gerada por semestre dos anos analisados\n",
    "rps_2010_1 = df_sales.loc[(df_sales['Ano'] == 2010) & (df_sales['Mes'] <= 6), 'TotalPrice'].sum()\n",
    "rps_2010_2 = df_sales.loc[(df_sales['Ano'] == 2010) & (df_sales['Mes'] > 6), 'TotalPrice'].sum()\n",
    "rps_2011_1 = df_sales.loc[(df_sales['Ano'] == 2011) & (df_sales['Mes'] <= 6), 'TotalPrice'].sum()\n",
    "rps_2011_2 = df_sales.loc[(df_sales['Ano'] == 2011) & (df_sales['Mes'] > 6), 'TotalPrice'].sum()\n",
    "\n",
    "# Realizando um agrupamento de receita gerada por ano\n",
    "total_2010 = rps_2010_1 + rps_2010_2\n",
    "total_2011 = rps_2011_1 + rps_2011_2\n",
    "\n",
    "# Função para evitar divisão por 0\n",
    "def var_perc(novo, antigo):\n",
    "    if antigo == 0:\n",
    "        return 0\n",
    "    return round((novo / antigo - 1) * 100, 2)\n",
    "\n",
    "# Cálculo das variações\n",
    "var_2010 = var_perc(rps_2010_2, rps_2010_1)\n",
    "var_2011 = var_perc(rps_2011_2, rps_2011_1)\n",
    "var_1_sem = var_perc(rps_2011_1, rps_2010_1)\n",
    "var_2_sem = var_perc(rps_2011_2, rps_2010_2)\n",
    "var_ano = var_perc(total_2011, total_2010)"
   ]
  },
  {
   "cell_type": "code",
   "execution_count": 10,
   "id": "2308b9f3",
   "metadata": {},
   "outputs": [
    {
     "name": "stdout",
     "output_type": "stream",
     "text": [
      "Análise da Receita por Semestre e Ano (2010 e 2011):\n",
      "\n",
      "Receita 1º semestre 2010: £ 3,784,261.39\n",
      "Receita 2º semestre 2010: £ 5,729,839.17\n",
      "Variação 2º semestre vs 1º semestre 2010: 51.41%\n",
      "  > Crescimento no 2º semestre de 2010 em relação ao 1º semestre.\n",
      "\n",
      "\n",
      "Receita 1º semestre 2011: £ 3,717,331.62\n",
      "Receita 2º semestre 2011: £ 5,477,523.29\n",
      "Variação 2º semestre vs 1º semestre 2011: 47.35%\n",
      "  > Crescimento no 2º semestre de 2011 em relação ao 1º semestre.\n",
      "\n",
      "\n",
      "Variação 1º semestre 2011 vs 2010: -1.77%\n",
      "  > Queda no 1º semestre de 2011 em relação a 2010.\n",
      "Variação 2º semestre 2011 vs 2010: -4.40%\n",
      "  > Queda no 2º semestre de 2011 em relação a 2010.\n",
      "\n",
      "\n",
      "Total anual 2010: £ 9,514,100.56\n",
      "Total anual 2011: £ 9,194,854.91\n",
      "Variação anual (YoY) 2011 vs 2010: -3.36%\n",
      "  > Queda da receita total em 2011 em relação a 2010.\n"
     ]
    }
   ],
   "source": [
    "# Print com os resultados anuais e semestrais com suas variações de resultados\n",
    "print(\"Análise da Receita por Semestre e Ano (2010 e 2011):\\n\")\n",
    "\n",
    "print(f\"Receita 1º semestre 2010: £ {rps_2010_1:,.2f}\")\n",
    "print(f\"Receita 2º semestre 2010: £ {rps_2010_2:,.2f}\")\n",
    "print(f\"Variação 2º semestre vs 1º semestre 2010: {var_2010:.2f}%\")\n",
    "if var_2010 > 0:\n",
    "    print(\"  > Crescimento no 2º semestre de 2010 em relação ao 1º semestre.\")\n",
    "else:\n",
    "    print(\"  > Queda no 2º semestre de 2010 em relação ao 1º semestre.\")\n",
    "\n",
    "print(\"\\n\")\n",
    "\n",
    "print(f\"Receita 1º semestre 2011: £ {rps_2011_1:,.2f}\")\n",
    "print(f\"Receita 2º semestre 2011: £ {rps_2011_2:,.2f}\")\n",
    "print(f\"Variação 2º semestre vs 1º semestre 2011: {var_2011:.2f}%\")\n",
    "if var_2011 > 0:\n",
    "    print(\"  > Crescimento no 2º semestre de 2011 em relação ao 1º semestre.\")\n",
    "else:\n",
    "    print(\"  > Queda no 2º semestre de 2011 em relação ao 1º semestre.\")\n",
    "\n",
    "print(\"\\n\")\n",
    "\n",
    "print(f\"Variação 1º semestre 2011 vs 2010: {var_1_sem:.2f}%\")\n",
    "if var_1_sem > 0:\n",
    "    print(\"  > Crescimento no 1º semestre de 2011 em relação a 2010.\")\n",
    "else:\n",
    "    print(\"  > Queda no 1º semestre de 2011 em relação a 2010.\")\n",
    "\n",
    "print(f\"Variação 2º semestre 2011 vs 2010: {var_2_sem:.2f}%\")\n",
    "if var_2_sem > 0:\n",
    "    print(\"  > Crescimento no 2º semestre de 2011 em relação a 2010.\")\n",
    "else:\n",
    "    print(\"  > Queda no 2º semestre de 2011 em relação a 2010.\")\n",
    "\n",
    "print(\"\\n\")\n",
    "\n",
    "print(f\"Total anual 2010: £ {total_2010:,.2f}\")\n",
    "print(f\"Total anual 2011: £ {total_2011:,.2f}\")\n",
    "print(f\"Variação anual (YoY) 2011 vs 2010: {var_ano:.2f}%\")\n",
    "if var_ano > 0:\n",
    "    print(\"  > Crescimento da receita total em 2011 em relação a 2010.\")\n",
    "else:\n",
    "    print(\"  > Queda da receita total em 2011 em relação a 2010.\")\n"
   ]
  },
  {
   "cell_type": "markdown",
   "id": "ca9b69a8",
   "metadata": {},
   "source": [
    "### 4.1 📌 Conclusão Final da Análise Temporal e Variação de Resultados\n",
    "\n",
    "A análise temporal das vendas ao longo dos anos de **2009 a 2011** permitiu identificar padrões claros de sazonalidade, bem como variações significativas de desempenho entre os semestres e entre os anos completos.\n",
    "\n",
    "Os meses de **novembro de 2010 e 2011** se destacaram como os maiores em volume de vendas e geração de receita, reforçando uma **forte tendência sazonal**. Observou-se que a performance da empresa começa a se intensificar a partir de **setembro**, alcançando seu pico em novembro. Esse comportamento indica que o **segundo semestre** é consistentemente o período mais lucrativo do ano.\n",
    "\n",
    "Comparando os semestres:\n",
    "\n",
    "- Em **2010**, o segundo semestre superou o primeiro com um crescimento de **+51,41%** na receita.\n",
    "- Em **2011**, esse crescimento foi de **+47,35%** em relação ao primeiro semestre do mesmo ano.\n",
    "\n",
    "Apesar disso, o desempenho de 2011 não superou o de 2010. Comparando os mesmos períodos entre os dois anos:\n",
    "\n",
    "- O **1º semestre de 2011** teve uma leve **queda de -1,77%** em relação ao de 2010.\n",
    "- O **2º semestre de 2011** registrou um decréscimo de **-4,40%** comparado ao segundo semestre de 2010.\n",
    "\n",
    "Como consequência, o resultado anual de 2011 foi **inferior ao de 2010**, com uma **queda total de -3,36%** na receita anual, mesmo com o excelente desempenho de novembro. O fator mais crítico foi o mês de **dezembro de 2011**, que teve uma queda brusca tanto em receita quanto em quantidade de produtos vendidos, o que comprometeu o fechamento do ano. Essa baixa pode estar associada a fatores operacionais, como um possível **fechamento de operação** ou redução de atividades no período.\n",
    "\n",
    "Por fim, uma observação relevante é que o único mês registrado de **2009**, dezembro, apresentou um desempenho **superior ao mesmo mês de 2011**, mesmo sem dados adicionais para comparação semestral. Isso reforça o impacto negativo que dezembro de 2011 teve sobre os resultados globais da empresa.\n",
    "\n",
    "Em resumo, a análise temporal evidenciou a **dependência da sazonalidade** para os bons resultados da empresa e ressaltou a importância de uma gestão cuidadosa no final do ano, especialmente em dezembro, mês decisivo para o fechamento positivo do exercício."
   ]
  },
  {
   "cell_type": "markdown",
   "id": "5bcfd2bf",
   "metadata": {},
   "source": [
    "## 5. Análise de Produtos"
   ]
  },
  {
   "cell_type": "code",
   "execution_count": 11,
   "id": "3472ee2f",
   "metadata": {},
   "outputs": [
    {
     "name": "stdout",
     "output_type": "stream",
     "text": [
      "O TOP 5 Produtos mais vendidos em quantidade são:\n",
      "WORLD WAR 2 GLIDERS ASSTD DESIGNS — 106378\n",
      "WHITE HANGING HEART T-LIGHT HOLDER — 94485\n",
      "PAPER CRAFT , LITTLE BIRDIE — 80995\n",
      "ASSORTED COLOUR BIRD ORNAMENT — 79131\n",
      "MEDIUM CERAMIC TOP STORAGE JAR — 77968\n"
     ]
    }
   ],
   "source": [
    "# Realizando um agrupamento de quantidade vendida por produto e extraindo o TOP 5 em destaque\n",
    "quantidade_por_produto = (\n",
    "    df_sales.groupby('Description')['Quantity']\n",
    "    .sum()\n",
    "    .reset_index()\n",
    "    .sort_values(by='Quantity', ascending=False)\n",
    "    .head(5)\n",
    ")\n",
    "\n",
    "# Print dos produtos com destaque\n",
    "print(\"O TOP 5 Produtos mais vendidos em quantidade são:\")\n",
    "for _, row in quantidade_por_produto.iterrows():\n",
    "    print(f\"{row['Description']} — {row['Quantity']}\")\n"
   ]
  },
  {
   "cell_type": "code",
   "execution_count": 12,
   "id": "40156c21",
   "metadata": {},
   "outputs": [
    {
     "name": "stdout",
     "output_type": "stream",
     "text": [
      "O TOP 5 Produtos com maior receita são:\n",
      "REGENCY CAKESTAND 3 TIER — £335303.31\n",
      "WHITE HANGING HEART T-LIGHT HOLDER — £260869.17\n",
      "PAPER CRAFT , LITTLE BIRDIE — £168469.60\n",
      "JUMBO BAG RED RETROSPOT — £145151.98\n",
      "PARTY BUNTING — £145078.33\n"
     ]
    }
   ],
   "source": [
    "# Realizando um agrupamento de receita gerada por produto e extraindo o TOP 5 em destaque\n",
    "receita_por_produto = (\n",
    "    df_sales.groupby('Description')['TotalPrice']\n",
    "    .sum()\n",
    "    .reset_index()\n",
    "    .sort_values(by='TotalPrice', ascending=False)\n",
    "    .head(5)\n",
    ")\n",
    "\n",
    "# Print dos produtos com destaque\n",
    "print(\"O TOP 5 Produtos com maior receita são:\")\n",
    "for _, row in receita_por_produto.iterrows():\n",
    "    print(f\"{row['Description']} — £{row['TotalPrice']:.2f}\")"
   ]
  },
  {
   "cell_type": "code",
   "execution_count": 26,
   "id": "a59c3c55",
   "metadata": {},
   "outputs": [
    {
     "data": {
      "application/vnd.plotly.v1+json": {
       "config": {
        "plotlyServerURL": "https://plot.ly"
       },
       "data": [
        {
         "hovertemplate": "Produto=ASSORTED COLOUR BIRD ORNAMENT<br>Mês=%{x}<br>Quantidade=%{y}<extra></extra>",
         "legendgroup": "ASSORTED COLOUR BIRD ORNAMENT",
         "marker": {
          "color": "#636efa",
          "pattern": {
           "shape": ""
          }
         },
         "name": "ASSORTED COLOUR BIRD ORNAMENT",
         "orientation": "v",
         "showlegend": true,
         "textposition": "inside",
         "texttemplate": "%{y}",
         "type": "bar",
         "x": [
          "2009-12",
          "2010-01",
          "2010-02",
          "2010-03",
          "2010-04",
          "2010-05",
          "2010-06",
          "2010-07",
          "2010-08",
          "2010-09",
          "2010-10",
          "2010-11",
          "2010-12",
          "2011-01",
          "2011-02",
          "2011-03",
          "2011-04",
          "2011-05",
          "2011-06",
          "2011-07",
          "2011-08",
          "2011-09",
          "2011-10",
          "2011-11",
          "2011-12"
         ],
         "xaxis": "x5",
         "y": {
          "bdata": "GhKtBXsGNQy5ClgI7gYVDFMM2g4GFhckbw6pBj8GTgrACdML9AUdB0EYEAsUCmYUMgU=",
          "dtype": "i2"
         },
         "yaxis": "y5"
        },
        {
         "hovertemplate": "Produto=WHITE HANGING HEART T-LIGHT HOLDER<br>Mês=%{x}<br>Quantidade=%{y}<extra></extra>",
         "legendgroup": "WHITE HANGING HEART T-LIGHT HOLDER",
         "marker": {
          "color": "#EF553B",
          "pattern": {
           "shape": ""
          }
         },
         "name": "WHITE HANGING HEART T-LIGHT HOLDER",
         "orientation": "v",
         "showlegend": true,
         "textposition": "inside",
         "texttemplate": "%{y}",
         "type": "bar",
         "x": [
          "2009-12",
          "2010-01",
          "2010-02",
          "2010-03",
          "2010-04",
          "2010-05",
          "2010-06",
          "2010-07",
          "2010-08",
          "2010-09",
          "2010-10",
          "2010-11",
          "2010-12",
          "2011-01",
          "2011-02",
          "2011-03",
          "2011-04",
          "2011-05",
          "2011-06",
          "2011-07",
          "2011-08",
          "2011-09",
          "2011-10",
          "2011-11",
          "2011-12"
         ],
         "xaxis": "x4",
         "y": {
          "bdata": "BRj0FD4LfhM6DvwQdxBvD0ES/hCpEeMZOhbUFNIGiwfeDhkPTgacCw0Ibwl8BjITAwM=",
          "dtype": "i2"
         },
         "yaxis": "y4"
        },
        {
         "hovertemplate": "Produto=WORLD WAR 2 GLIDERS ASSTD DESIGNS<br>Mês=%{x}<br>Quantidade=%{y}<extra></extra>",
         "legendgroup": "WORLD WAR 2 GLIDERS ASSTD DESIGNS",
         "marker": {
          "color": "#00cc96",
          "pattern": {
           "shape": ""
          }
         },
         "name": "WORLD WAR 2 GLIDERS ASSTD DESIGNS",
         "orientation": "v",
         "showlegend": true,
         "textposition": "inside",
         "texttemplate": "%{y}",
         "type": "bar",
         "x": [
          "2009-12",
          "2010-01",
          "2010-02",
          "2010-03",
          "2010-04",
          "2010-05",
          "2010-06",
          "2010-07",
          "2010-08",
          "2010-09",
          "2010-10",
          "2010-11",
          "2010-12",
          "2011-01",
          "2011-02",
          "2011-03",
          "2011-04",
          "2011-05",
          "2011-06",
          "2011-07",
          "2011-08",
          "2011-09",
          "2011-10",
          "2011-11",
          "2011-12"
         ],
         "xaxis": "x3",
         "y": {
          "bdata": "jwpzBWAJQxGgDkAM7BR3ClcTWxH7FSUlyiJ0BY0N0A4PIVUTRwhyDEMIuw30H88RVwU=",
          "dtype": "i2"
         },
         "yaxis": "y3"
        },
        {
         "hovertemplate": "Produto=MEDIUM CERAMIC TOP STORAGE JAR<br>Mês=%{x}<br>Quantidade=%{y}<extra></extra>",
         "legendgroup": "MEDIUM CERAMIC TOP STORAGE JAR",
         "marker": {
          "color": "#ab63fa",
          "pattern": {
           "shape": ""
          }
         },
         "name": "MEDIUM CERAMIC TOP STORAGE JAR",
         "orientation": "v",
         "showlegend": true,
         "textposition": "inside",
         "texttemplate": "%{y}",
         "type": "bar",
         "x": [
          "2011-01",
          "2011-05",
          "2011-06",
          "2011-07",
          "2011-08",
          "2011-09",
          "2011-10",
          "2011-11",
          "2011-12"
         ],
         "xaxis": "x2",
         "y": {
          "bdata": "5yEBABEDAACFAQAA2gIAAJ8BAABaAQAA9gAAAHsCAADPAAAA",
          "dtype": "i4"
         },
         "yaxis": "y2"
        },
        {
         "hovertemplate": "Produto=PAPER CRAFT , LITTLE BIRDIE<br>Mês=%{x}<br>Quantidade=%{y}<extra></extra>",
         "legendgroup": "PAPER CRAFT , LITTLE BIRDIE",
         "marker": {
          "color": "#FFA15A",
          "pattern": {
           "shape": ""
          }
         },
         "name": "PAPER CRAFT , LITTLE BIRDIE",
         "orientation": "v",
         "showlegend": true,
         "textposition": "inside",
         "texttemplate": "%{y}",
         "type": "bar",
         "x": [
          "2011-12"
         ],
         "xaxis": "x",
         "y": {
          "bdata": "YzwBAA==",
          "dtype": "i4"
         },
         "yaxis": "y"
        }
       ],
       "layout": {
        "annotations": [
         {
          "font": {},
          "showarrow": false,
          "text": "Produto=PAPER CRAFT , LITTLE BIRDIE",
          "x": 0.5,
          "xanchor": "center",
          "xref": "paper",
          "y": 0.144,
          "yanchor": "bottom",
          "yref": "paper"
         },
         {
          "font": {},
          "showarrow": false,
          "text": "Produto=MEDIUM CERAMIC TOP STORAGE JAR",
          "x": 0.5,
          "xanchor": "center",
          "xref": "paper",
          "y": 0.358,
          "yanchor": "bottom",
          "yref": "paper"
         },
         {
          "font": {},
          "showarrow": false,
          "text": "Produto=WORLD WAR 2 GLIDERS ASSTD DESIGNS",
          "x": 0.5,
          "xanchor": "center",
          "xref": "paper",
          "y": 0.572,
          "yanchor": "bottom",
          "yref": "paper"
         },
         {
          "font": {},
          "showarrow": false,
          "text": "Produto=WHITE HANGING HEART T-LIGHT HOLDER",
          "x": 0.5,
          "xanchor": "center",
          "xref": "paper",
          "y": 0.7859999999999999,
          "yanchor": "bottom",
          "yref": "paper"
         },
         {
          "font": {},
          "showarrow": false,
          "text": "Produto=ASSORTED COLOUR BIRD ORNAMENT",
          "x": 0.5,
          "xanchor": "center",
          "xref": "paper",
          "y": 1,
          "yanchor": "bottom",
          "yref": "paper"
         }
        ],
        "barmode": "relative",
        "height": 1400,
        "legend": {
         "title": {
          "text": "Produto"
         },
         "tracegroupgap": 0
        },
        "showlegend": false,
        "template": {
         "data": {
          "bar": [
           {
            "error_x": {
             "color": "#2a3f5f"
            },
            "error_y": {
             "color": "#2a3f5f"
            },
            "marker": {
             "line": {
              "color": "#E5ECF6",
              "width": 0.5
             },
             "pattern": {
              "fillmode": "overlay",
              "size": 10,
              "solidity": 0.2
             }
            },
            "type": "bar"
           }
          ],
          "barpolar": [
           {
            "marker": {
             "line": {
              "color": "#E5ECF6",
              "width": 0.5
             },
             "pattern": {
              "fillmode": "overlay",
              "size": 10,
              "solidity": 0.2
             }
            },
            "type": "barpolar"
           }
          ],
          "carpet": [
           {
            "aaxis": {
             "endlinecolor": "#2a3f5f",
             "gridcolor": "white",
             "linecolor": "white",
             "minorgridcolor": "white",
             "startlinecolor": "#2a3f5f"
            },
            "baxis": {
             "endlinecolor": "#2a3f5f",
             "gridcolor": "white",
             "linecolor": "white",
             "minorgridcolor": "white",
             "startlinecolor": "#2a3f5f"
            },
            "type": "carpet"
           }
          ],
          "choropleth": [
           {
            "colorbar": {
             "outlinewidth": 0,
             "ticks": ""
            },
            "type": "choropleth"
           }
          ],
          "contour": [
           {
            "colorbar": {
             "outlinewidth": 0,
             "ticks": ""
            },
            "colorscale": [
             [
              0,
              "#0d0887"
             ],
             [
              0.1111111111111111,
              "#46039f"
             ],
             [
              0.2222222222222222,
              "#7201a8"
             ],
             [
              0.3333333333333333,
              "#9c179e"
             ],
             [
              0.4444444444444444,
              "#bd3786"
             ],
             [
              0.5555555555555556,
              "#d8576b"
             ],
             [
              0.6666666666666666,
              "#ed7953"
             ],
             [
              0.7777777777777778,
              "#fb9f3a"
             ],
             [
              0.8888888888888888,
              "#fdca26"
             ],
             [
              1,
              "#f0f921"
             ]
            ],
            "type": "contour"
           }
          ],
          "contourcarpet": [
           {
            "colorbar": {
             "outlinewidth": 0,
             "ticks": ""
            },
            "type": "contourcarpet"
           }
          ],
          "heatmap": [
           {
            "colorbar": {
             "outlinewidth": 0,
             "ticks": ""
            },
            "colorscale": [
             [
              0,
              "#0d0887"
             ],
             [
              0.1111111111111111,
              "#46039f"
             ],
             [
              0.2222222222222222,
              "#7201a8"
             ],
             [
              0.3333333333333333,
              "#9c179e"
             ],
             [
              0.4444444444444444,
              "#bd3786"
             ],
             [
              0.5555555555555556,
              "#d8576b"
             ],
             [
              0.6666666666666666,
              "#ed7953"
             ],
             [
              0.7777777777777778,
              "#fb9f3a"
             ],
             [
              0.8888888888888888,
              "#fdca26"
             ],
             [
              1,
              "#f0f921"
             ]
            ],
            "type": "heatmap"
           }
          ],
          "histogram": [
           {
            "marker": {
             "pattern": {
              "fillmode": "overlay",
              "size": 10,
              "solidity": 0.2
             }
            },
            "type": "histogram"
           }
          ],
          "histogram2d": [
           {
            "colorbar": {
             "outlinewidth": 0,
             "ticks": ""
            },
            "colorscale": [
             [
              0,
              "#0d0887"
             ],
             [
              0.1111111111111111,
              "#46039f"
             ],
             [
              0.2222222222222222,
              "#7201a8"
             ],
             [
              0.3333333333333333,
              "#9c179e"
             ],
             [
              0.4444444444444444,
              "#bd3786"
             ],
             [
              0.5555555555555556,
              "#d8576b"
             ],
             [
              0.6666666666666666,
              "#ed7953"
             ],
             [
              0.7777777777777778,
              "#fb9f3a"
             ],
             [
              0.8888888888888888,
              "#fdca26"
             ],
             [
              1,
              "#f0f921"
             ]
            ],
            "type": "histogram2d"
           }
          ],
          "histogram2dcontour": [
           {
            "colorbar": {
             "outlinewidth": 0,
             "ticks": ""
            },
            "colorscale": [
             [
              0,
              "#0d0887"
             ],
             [
              0.1111111111111111,
              "#46039f"
             ],
             [
              0.2222222222222222,
              "#7201a8"
             ],
             [
              0.3333333333333333,
              "#9c179e"
             ],
             [
              0.4444444444444444,
              "#bd3786"
             ],
             [
              0.5555555555555556,
              "#d8576b"
             ],
             [
              0.6666666666666666,
              "#ed7953"
             ],
             [
              0.7777777777777778,
              "#fb9f3a"
             ],
             [
              0.8888888888888888,
              "#fdca26"
             ],
             [
              1,
              "#f0f921"
             ]
            ],
            "type": "histogram2dcontour"
           }
          ],
          "mesh3d": [
           {
            "colorbar": {
             "outlinewidth": 0,
             "ticks": ""
            },
            "type": "mesh3d"
           }
          ],
          "parcoords": [
           {
            "line": {
             "colorbar": {
              "outlinewidth": 0,
              "ticks": ""
             }
            },
            "type": "parcoords"
           }
          ],
          "pie": [
           {
            "automargin": true,
            "type": "pie"
           }
          ],
          "scatter": [
           {
            "fillpattern": {
             "fillmode": "overlay",
             "size": 10,
             "solidity": 0.2
            },
            "type": "scatter"
           }
          ],
          "scatter3d": [
           {
            "line": {
             "colorbar": {
              "outlinewidth": 0,
              "ticks": ""
             }
            },
            "marker": {
             "colorbar": {
              "outlinewidth": 0,
              "ticks": ""
             }
            },
            "type": "scatter3d"
           }
          ],
          "scattercarpet": [
           {
            "marker": {
             "colorbar": {
              "outlinewidth": 0,
              "ticks": ""
             }
            },
            "type": "scattercarpet"
           }
          ],
          "scattergeo": [
           {
            "marker": {
             "colorbar": {
              "outlinewidth": 0,
              "ticks": ""
             }
            },
            "type": "scattergeo"
           }
          ],
          "scattergl": [
           {
            "marker": {
             "colorbar": {
              "outlinewidth": 0,
              "ticks": ""
             }
            },
            "type": "scattergl"
           }
          ],
          "scattermap": [
           {
            "marker": {
             "colorbar": {
              "outlinewidth": 0,
              "ticks": ""
             }
            },
            "type": "scattermap"
           }
          ],
          "scattermapbox": [
           {
            "marker": {
             "colorbar": {
              "outlinewidth": 0,
              "ticks": ""
             }
            },
            "type": "scattermapbox"
           }
          ],
          "scatterpolar": [
           {
            "marker": {
             "colorbar": {
              "outlinewidth": 0,
              "ticks": ""
             }
            },
            "type": "scatterpolar"
           }
          ],
          "scatterpolargl": [
           {
            "marker": {
             "colorbar": {
              "outlinewidth": 0,
              "ticks": ""
             }
            },
            "type": "scatterpolargl"
           }
          ],
          "scatterternary": [
           {
            "marker": {
             "colorbar": {
              "outlinewidth": 0,
              "ticks": ""
             }
            },
            "type": "scatterternary"
           }
          ],
          "surface": [
           {
            "colorbar": {
             "outlinewidth": 0,
             "ticks": ""
            },
            "colorscale": [
             [
              0,
              "#0d0887"
             ],
             [
              0.1111111111111111,
              "#46039f"
             ],
             [
              0.2222222222222222,
              "#7201a8"
             ],
             [
              0.3333333333333333,
              "#9c179e"
             ],
             [
              0.4444444444444444,
              "#bd3786"
             ],
             [
              0.5555555555555556,
              "#d8576b"
             ],
             [
              0.6666666666666666,
              "#ed7953"
             ],
             [
              0.7777777777777778,
              "#fb9f3a"
             ],
             [
              0.8888888888888888,
              "#fdca26"
             ],
             [
              1,
              "#f0f921"
             ]
            ],
            "type": "surface"
           }
          ],
          "table": [
           {
            "cells": {
             "fill": {
              "color": "#EBF0F8"
             },
             "line": {
              "color": "white"
             }
            },
            "header": {
             "fill": {
              "color": "#C8D4E3"
             },
             "line": {
              "color": "white"
             }
            },
            "type": "table"
           }
          ]
         },
         "layout": {
          "annotationdefaults": {
           "arrowcolor": "#2a3f5f",
           "arrowhead": 0,
           "arrowwidth": 1
          },
          "autotypenumbers": "strict",
          "coloraxis": {
           "colorbar": {
            "outlinewidth": 0,
            "ticks": ""
           }
          },
          "colorscale": {
           "diverging": [
            [
             0,
             "#8e0152"
            ],
            [
             0.1,
             "#c51b7d"
            ],
            [
             0.2,
             "#de77ae"
            ],
            [
             0.3,
             "#f1b6da"
            ],
            [
             0.4,
             "#fde0ef"
            ],
            [
             0.5,
             "#f7f7f7"
            ],
            [
             0.6,
             "#e6f5d0"
            ],
            [
             0.7,
             "#b8e186"
            ],
            [
             0.8,
             "#7fbc41"
            ],
            [
             0.9,
             "#4d9221"
            ],
            [
             1,
             "#276419"
            ]
           ],
           "sequential": [
            [
             0,
             "#0d0887"
            ],
            [
             0.1111111111111111,
             "#46039f"
            ],
            [
             0.2222222222222222,
             "#7201a8"
            ],
            [
             0.3333333333333333,
             "#9c179e"
            ],
            [
             0.4444444444444444,
             "#bd3786"
            ],
            [
             0.5555555555555556,
             "#d8576b"
            ],
            [
             0.6666666666666666,
             "#ed7953"
            ],
            [
             0.7777777777777778,
             "#fb9f3a"
            ],
            [
             0.8888888888888888,
             "#fdca26"
            ],
            [
             1,
             "#f0f921"
            ]
           ],
           "sequentialminus": [
            [
             0,
             "#0d0887"
            ],
            [
             0.1111111111111111,
             "#46039f"
            ],
            [
             0.2222222222222222,
             "#7201a8"
            ],
            [
             0.3333333333333333,
             "#9c179e"
            ],
            [
             0.4444444444444444,
             "#bd3786"
            ],
            [
             0.5555555555555556,
             "#d8576b"
            ],
            [
             0.6666666666666666,
             "#ed7953"
            ],
            [
             0.7777777777777778,
             "#fb9f3a"
            ],
            [
             0.8888888888888888,
             "#fdca26"
            ],
            [
             1,
             "#f0f921"
            ]
           ]
          },
          "colorway": [
           "#636efa",
           "#EF553B",
           "#00cc96",
           "#ab63fa",
           "#FFA15A",
           "#19d3f3",
           "#FF6692",
           "#B6E880",
           "#FF97FF",
           "#FECB52"
          ],
          "font": {
           "color": "#2a3f5f"
          },
          "geo": {
           "bgcolor": "white",
           "lakecolor": "white",
           "landcolor": "#E5ECF6",
           "showlakes": true,
           "showland": true,
           "subunitcolor": "white"
          },
          "hoverlabel": {
           "align": "left"
          },
          "hovermode": "closest",
          "mapbox": {
           "style": "light"
          },
          "paper_bgcolor": "white",
          "plot_bgcolor": "#E5ECF6",
          "polar": {
           "angularaxis": {
            "gridcolor": "white",
            "linecolor": "white",
            "ticks": ""
           },
           "bgcolor": "#E5ECF6",
           "radialaxis": {
            "gridcolor": "white",
            "linecolor": "white",
            "ticks": ""
           }
          },
          "scene": {
           "xaxis": {
            "backgroundcolor": "#E5ECF6",
            "gridcolor": "white",
            "gridwidth": 2,
            "linecolor": "white",
            "showbackground": true,
            "ticks": "",
            "zerolinecolor": "white"
           },
           "yaxis": {
            "backgroundcolor": "#E5ECF6",
            "gridcolor": "white",
            "gridwidth": 2,
            "linecolor": "white",
            "showbackground": true,
            "ticks": "",
            "zerolinecolor": "white"
           },
           "zaxis": {
            "backgroundcolor": "#E5ECF6",
            "gridcolor": "white",
            "gridwidth": 2,
            "linecolor": "white",
            "showbackground": true,
            "ticks": "",
            "zerolinecolor": "white"
           }
          },
          "shapedefaults": {
           "line": {
            "color": "#2a3f5f"
           }
          },
          "ternary": {
           "aaxis": {
            "gridcolor": "white",
            "linecolor": "white",
            "ticks": ""
           },
           "baxis": {
            "gridcolor": "white",
            "linecolor": "white",
            "ticks": ""
           },
           "bgcolor": "#E5ECF6",
           "caxis": {
            "gridcolor": "white",
            "linecolor": "white",
            "ticks": ""
           }
          },
          "title": {
           "x": 0.05
          },
          "xaxis": {
           "automargin": true,
           "gridcolor": "white",
           "linecolor": "white",
           "ticks": "",
           "title": {
            "standoff": 15
           },
           "zerolinecolor": "white",
           "zerolinewidth": 2
          },
          "yaxis": {
           "automargin": true,
           "gridcolor": "white",
           "linecolor": "white",
           "ticks": "",
           "title": {
            "standoff": 15
           },
           "zerolinecolor": "white",
           "zerolinewidth": 2
          }
         }
        },
        "title": {
         "text": "📦 TOP 5 Produtos com maior quantidade vendida - Visão Mensal"
        },
        "xaxis": {
         "anchor": "y",
         "domain": [
          0,
          1
         ],
         "showticklabels": true,
         "title": {
          "text": "Mês"
         }
        },
        "xaxis2": {
         "anchor": "y2",
         "domain": [
          0,
          1
         ],
         "showticklabels": true
        },
        "xaxis3": {
         "anchor": "y3",
         "domain": [
          0,
          1
         ],
         "showticklabels": true
        },
        "xaxis4": {
         "anchor": "y4",
         "domain": [
          0,
          1
         ],
         "showticklabels": true
        },
        "xaxis5": {
         "anchor": "y5",
         "domain": [
          0,
          1
         ],
         "showticklabels": true
        },
        "yaxis": {
         "anchor": "x",
         "domain": [
          0,
          0.144
         ],
         "title": {
          "text": "Quantidade"
         }
        },
        "yaxis2": {
         "anchor": "x2",
         "domain": [
          0.214,
          0.358
         ],
         "title": {
          "text": "Quantidade"
         }
        },
        "yaxis3": {
         "anchor": "x3",
         "domain": [
          0.428,
          0.572
         ],
         "title": {
          "text": "Quantidade"
         }
        },
        "yaxis4": {
         "anchor": "x4",
         "domain": [
          0.6419999999999999,
          0.7859999999999999
         ],
         "title": {
          "text": "Quantidade"
         }
        },
        "yaxis5": {
         "anchor": "x5",
         "domain": [
          0.856,
          1
         ],
         "title": {
          "text": "Quantidade"
         }
        }
       }
      }
     },
     "metadata": {},
     "output_type": "display_data"
    }
   ],
   "source": [
    "# Filtrar os 5 produtos mais vendidos (em quantidade)\n",
    "top_5 = quantidade_por_produto['Description'].tolist()\n",
    "df_top5 = df_sales[df_sales['Description'].isin(top_5)]\n",
    "\n",
    "# Agrupar os dados por mês e por produto, somando a quantidade vendida\n",
    "quantidade_mensal = (\n",
    "    df_top5.groupby(['AnoMes', 'Description'])['Quantity']\n",
    "    .sum()\n",
    "    .reset_index()\n",
    ")\n",
    "\n",
    "# Criar gráfico de barras com Plotly Express\n",
    "# Mostra um gráfico separado (facet) por produto, com a quantidade mensal vendida\n",
    "fig = px.bar(\n",
    "    quantidade_mensal,\n",
    "    x='AnoMes',           # eixo x = mês\n",
    "    y='Quantity',         # eixo y = quantidade vendida\n",
    "    color='Description',  # cor por produto\n",
    "    facet_col='Description',  # um gráfico por produto\n",
    "    facet_col_wrap=1,         # um gráfico por linha (coluna única)\n",
    "    title='📦 TOP 5 Produtos com maior quantidade vendida - Visão Mensal',\n",
    "    labels={\"Description\": \"Produto\", \"AnoMes\": \"Mês\", \"Quantity\": \"Quantidade\"},\n",
    ")\n",
    "\n",
    "# Ajustar layout geral do gráfico\n",
    "fig.update_layout(\n",
    "    showlegend=False,       # esconder legenda (pois cada produto já tem seu gráfico)\n",
    "    height=1400,            # altura total do gráfico\n",
    "    xaxis_title='Mês',      # título do eixo X\n",
    "    yaxis_title='Quantidade',  # título do eixo Y\n",
    ")\n",
    "\n",
    "# Mostrar os rótulos de todos os eixos (mesmo que estejam repetidos)\n",
    "fig.update_xaxes(matches=None, showticklabels=True)\n",
    "fig.update_yaxes(matches=None)\n",
    "\n",
    "# Adicionar os valores dentro das barras como rótulos\n",
    "fig.update_traces(texttemplate='%{y}', textposition='inside')\n",
    "\n",
    "# Exibir o gráfico\n",
    "fig.show()"
   ]
  },
  {
   "attachments": {
    "image.png": {
     "image/png": "[encoded data removed]"
    }
   },
   "cell_type": "markdown",
   "id": "96dbd375",
   "metadata": {},
   "source": [
    "![image.png](attachment:image.png)"
   ]
  },
  {
   "cell_type": "code",
   "execution_count": 14,
   "id": "2d8e7ba1",
   "metadata": {},
   "outputs": [
    {
     "data": {
      "application/vnd.plotly.v1+json": {
       "config": {
        "plotlyServerURL": "https://plot.ly"
       },
       "data": [
        {
         "hovertemplate": "Produto=PARTY BUNTING<br>Mês=%{x}<br>Receita (£)=%{y}<extra></extra>",
         "legendgroup": "PARTY BUNTING",
         "marker": {
          "color": "#636efa",
          "pattern": {
           "shape": ""
          }
         },
         "name": "PARTY BUNTING",
         "orientation": "v",
         "showlegend": true,
         "textangle": 0,
         "textfont": {
          "size": 10
         },
         "textposition": "inside",
         "texttemplate": "%{y:.2f}",
         "type": "bar",
         "x": [
          "2009-12-01T00:00:00",
          "2010-01-01T00:00:00",
          "2010-02-01T00:00:00",
          "2010-03-01T00:00:00",
          "2010-04-01T00:00:00",
          "2010-05-01T00:00:00",
          "2010-06-01T00:00:00",
          "2010-07-01T00:00:00",
          "2010-08-01T00:00:00",
          "2010-09-01T00:00:00",
          "2010-10-01T00:00:00",
          "2010-11-01T00:00:00",
          "2010-12-01T00:00:00",
          "2011-01-01T00:00:00",
          "2011-02-01T00:00:00",
          "2011-03-01T00:00:00",
          "2011-04-01T00:00:00",
          "2011-05-01T00:00:00",
          "2011-06-01T00:00:00",
          "2011-07-01T00:00:00",
          "2011-08-01T00:00:00",
          "2011-09-01T00:00:00",
          "2011-10-01T00:00:00",
          "2011-11-01T00:00:00",
          "2011-12-01T00:00:00"
         ],
         "xaxis": "x5",
         "y": {
          "bdata": "mpmZmZmFgkBnZmZmZtOXQBWuR+F6rJlAcT0K1yOPskDD9ShcDwG7QFyPwvWo1MJAAAAAAMALtkA+CtejcIySQJDC9SgcfrVAcT0K1yNDrkCPwvUonCewQI/C9SjcAKRAcT0K16Mon0AfhetROLKhQHE9Ctejya1AcT0K16O5wEApXI/C1dHEQK5H4XpE/tFAw/UoXK8WyECkcD0KV8zLQEjhehSOU8JAAAAAAIAGuECamZmZGV2sQPYoXI/ChLJApHA9CtezjEA=",
          "dtype": "f8"
         },
         "yaxis": "y5"
        },
        {
         "hovertemplate": "Produto=WHITE HANGING HEART T-LIGHT HOLDER<br>Mês=%{x}<br>Receita (£)=%{y}<extra></extra>",
         "legendgroup": "WHITE HANGING HEART T-LIGHT HOLDER",
         "marker": {
          "color": "#EF553B",
          "pattern": {
           "shape": ""
          }
         },
         "name": "WHITE HANGING HEART T-LIGHT HOLDER",
         "orientation": "v",
         "showlegend": true,
         "textangle": 0,
         "textfont": {
          "size": 10
         },
         "textposition": "inside",
         "texttemplate": "%{y:.2f}",
         "type": "bar",
         "x": [
          "2009-12-01T00:00:00",
          "2010-01-01T00:00:00",
          "2010-02-01T00:00:00",
          "2010-03-01T00:00:00",
          "2010-04-01T00:00:00",
          "2010-05-01T00:00:00",
          "2010-06-01T00:00:00",
          "2010-07-01T00:00:00",
          "2010-08-01T00:00:00",
          "2010-09-01T00:00:00",
          "2010-10-01T00:00:00",
          "2010-11-01T00:00:00",
          "2010-12-01T00:00:00",
          "2011-01-01T00:00:00",
          "2011-02-01T00:00:00",
          "2011-03-01T00:00:00",
          "2011-04-01T00:00:00",
          "2011-05-01T00:00:00",
          "2011-06-01T00:00:00",
          "2011-07-01T00:00:00",
          "2011-08-01T00:00:00",
          "2011-09-01T00:00:00",
          "2011-10-01T00:00:00",
          "2011-11-01T00:00:00",
          "2011-12-01T00:00:00"
         ],
         "xaxis": "x4",
         "y": {
          "bdata": "zczMzEww0EAehetRmBjMQB+F61E4/b5AKVyPwrVfy0BI4XoU7lfDQArXo3C96sZA9ihcj8JPxkCF61G4PprEQK5H4XpUwMhAwvUoXA/lxkDhehSuZ43IQAAAAADw5dFAZmZmZuY00ECkcD0Kl77MQNejcD2Kr7JAhetRuF4ftUBnZmZm5ljDQFyPwvUIacVAexSuR2GwsUBcj8L1KIvAQK5H4XrUCbZAKVyPwjXpukBcj8L1KFayQMP1KFzP4MtACtejcL0UoUA=",
          "dtype": "f8"
         },
         "yaxis": "y4"
        },
        {
         "hovertemplate": "Produto=REGENCY CAKESTAND 3 TIER<br>Mês=%{x}<br>Receita (£)=%{y}<extra></extra>",
         "legendgroup": "REGENCY CAKESTAND 3 TIER",
         "marker": {
          "color": "#00cc96",
          "pattern": {
           "shape": ""
          }
         },
         "name": "REGENCY CAKESTAND 3 TIER",
         "orientation": "v",
         "showlegend": true,
         "textangle": 0,
         "textfont": {
          "size": 10
         },
         "textposition": "inside",
         "texttemplate": "%{y:.2f}",
         "type": "bar",
         "x": [
          "2010-03-01T00:00:00",
          "2010-04-01T00:00:00",
          "2010-05-01T00:00:00",
          "2010-06-01T00:00:00",
          "2010-07-01T00:00:00",
          "2010-08-01T00:00:00",
          "2010-09-01T00:00:00",
          "2010-10-01T00:00:00",
          "2010-11-01T00:00:00",
          "2010-12-01T00:00:00",
          "2011-01-01T00:00:00",
          "2011-02-01T00:00:00",
          "2011-03-01T00:00:00",
          "2011-04-01T00:00:00",
          "2011-05-01T00:00:00",
          "2011-06-01T00:00:00",
          "2011-07-01T00:00:00",
          "2011-08-01T00:00:00",
          "2011-09-01T00:00:00",
          "2011-10-01T00:00:00",
          "2011-11-01T00:00:00",
          "2011-12-01T00:00:00"
         ],
         "xaxis": "x3",
         "y": {
          "bdata": "MzMzM3OYwkC4HoXrcWvLQHA9CtfjQLpAXI/C9Qi7z0DC9Shcz/HRQM3MzMyMP8lAR+F6FM7O10C4HoXr0SHXQChcj8L1XdtAUrgehQNi4kD1KFyPwjbIQOtRuB6FycRAKVyPwlVf0UAzMzMzEzjMQI/C9Sj8f8hApHA9CrfiwkCuR+F6VJrKQGZmZmaGecRAwvUoXO9YwkDrUbgeRVnJQNejcD2q4MpAhetRuN52t0A=",
          "dtype": "f8"
         },
         "yaxis": "y3"
        },
        {
         "hovertemplate": "Produto=JUMBO BAG RED RETROSPOT<br>Mês=%{x}<br>Receita (£)=%{y}<extra></extra>",
         "legendgroup": "JUMBO BAG RED RETROSPOT",
         "marker": {
          "color": "#ab63fa",
          "pattern": {
           "shape": ""
          }
         },
         "name": "JUMBO BAG RED RETROSPOT",
         "orientation": "v",
         "showlegend": true,
         "textangle": 0,
         "textfont": {
          "size": 10
         },
         "textposition": "inside",
         "texttemplate": "%{y:.2f}",
         "type": "bar",
         "x": [
          "2010-05-01T00:00:00",
          "2010-06-01T00:00:00",
          "2010-07-01T00:00:00",
          "2010-08-01T00:00:00",
          "2010-09-01T00:00:00",
          "2010-10-01T00:00:00",
          "2010-11-01T00:00:00",
          "2010-12-01T00:00:00",
          "2011-01-01T00:00:00",
          "2011-02-01T00:00:00",
          "2011-03-01T00:00:00",
          "2011-04-01T00:00:00",
          "2011-05-01T00:00:00",
          "2011-06-01T00:00:00",
          "2011-07-01T00:00:00",
          "2011-08-01T00:00:00",
          "2011-09-01T00:00:00",
          "2011-10-01T00:00:00",
          "2011-11-01T00:00:00",
          "2011-12-01T00:00:00"
         ],
         "xaxis": "x2",
         "y": {
          "bdata": "mZmZmZnuokApXI/Ctfa9QNejcD2K2LhAUrgehWstrUCPwvUofCXKQArXo3A9or9A9ihcj2LTwkDXo3A9yhe5QEjhehQuNrNAAAAAAEB1skA9CtejsK/DQD0K16Nwp7JApHA9CpcCu0DXo3A9ij27QOxRuB5FRLhA4XoUrkeTw0AK16Nw3evAQB+F61F4GsRAKVyPwhWtxkDNzMzMzGWhQA==",
          "dtype": "f8"
         },
         "yaxis": "y2"
        },
        {
         "hovertemplate": "Produto=PAPER CRAFT , LITTLE BIRDIE<br>Mês=%{x}<br>Receita (£)=%{y}<extra></extra>",
         "legendgroup": "PAPER CRAFT , LITTLE BIRDIE",
         "marker": {
          "color": "#FFA15A",
          "pattern": {
           "shape": ""
          }
         },
         "name": "PAPER CRAFT , LITTLE BIRDIE",
         "orientation": "v",
         "showlegend": true,
         "textangle": 0,
         "textfont": {
          "size": 10
         },
         "textposition": "inside",
         "texttemplate": "%{y:.2f}",
         "type": "bar",
         "x": [
          "2011-12-01T00:00:00"
         ],
         "xaxis": "x",
         "y": {
          "bdata": "zczMzKyQBEE=",
          "dtype": "f8"
         },
         "yaxis": "y"
        }
       ],
       "layout": {
        "annotations": [
         {
          "font": {},
          "showarrow": false,
          "text": "Produto=PAPER CRAFT , LITTLE BIRDIE",
          "x": 0.5,
          "xanchor": "center",
          "xref": "paper",
          "y": 0.144,
          "yanchor": "bottom",
          "yref": "paper"
         },
         {
          "font": {},
          "showarrow": false,
          "text": "Produto=JUMBO BAG RED RETROSPOT",
          "x": 0.5,
          "xanchor": "center",
          "xref": "paper",
          "y": 0.358,
          "yanchor": "bottom",
          "yref": "paper"
         },
         {
          "font": {},
          "showarrow": false,
          "text": "Produto=REGENCY CAKESTAND 3 TIER",
          "x": 0.5,
          "xanchor": "center",
          "xref": "paper",
          "y": 0.572,
          "yanchor": "bottom",
          "yref": "paper"
         },
         {
          "font": {},
          "showarrow": false,
          "text": "Produto=WHITE HANGING HEART T-LIGHT HOLDER",
          "x": 0.5,
          "xanchor": "center",
          "xref": "paper",
          "y": 0.7859999999999999,
          "yanchor": "bottom",
          "yref": "paper"
         },
         {
          "font": {},
          "showarrow": false,
          "text": "Produto=PARTY BUNTING",
          "x": 0.5,
          "xanchor": "center",
          "xref": "paper",
          "y": 1,
          "yanchor": "bottom",
          "yref": "paper"
         }
        ],
        "barmode": "relative",
        "height": 1400,
        "legend": {
         "title": {
          "text": "Produto"
         },
         "tracegroupgap": 0
        },
        "margin": {
         "t": 150
        },
        "showlegend": false,
        "template": {
         "data": {
          "bar": [
           {
            "error_x": {
             "color": "#2a3f5f"
            },
            "error_y": {
             "color": "#2a3f5f"
            },
            "marker": {
             "line": {
              "color": "#E5ECF6",
              "width": 0.5
             },
             "pattern": {
              "fillmode": "overlay",
              "size": 10,
              "solidity": 0.2
             }
            },
            "type": "bar"
           }
          ],
          "barpolar": [
           {
            "marker": {
             "line": {
              "color": "#E5ECF6",
              "width": 0.5
             },
             "pattern": {
              "fillmode": "overlay",
              "size": 10,
              "solidity": 0.2
             }
            },
            "type": "barpolar"
           }
          ],
          "carpet": [
           {
            "aaxis": {
             "endlinecolor": "#2a3f5f",
             "gridcolor": "white",
             "linecolor": "white",
             "minorgridcolor": "white",
             "startlinecolor": "#2a3f5f"
            },
            "baxis": {
             "endlinecolor": "#2a3f5f",
             "gridcolor": "white",
             "linecolor": "white",
             "minorgridcolor": "white",
             "startlinecolor": "#2a3f5f"
            },
            "type": "carpet"
           }
          ],
          "choropleth": [
           {
            "colorbar": {
             "outlinewidth": 0,
             "ticks": ""
            },
            "type": "choropleth"
           }
          ],
          "contour": [
           {
            "colorbar": {
             "outlinewidth": 0,
             "ticks": ""
            },
            "colorscale": [
             [
              0,
              "#0d0887"
             ],
             [
              0.1111111111111111,
              "#46039f"
             ],
             [
              0.2222222222222222,
              "#7201a8"
             ],
             [
              0.3333333333333333,
              "#9c179e"
             ],
             [
              0.4444444444444444,
              "#bd3786"
             ],
             [
              0.5555555555555556,
              "#d8576b"
             ],
             [
              0.6666666666666666,
              "#ed7953"
             ],
             [
              0.7777777777777778,
              "#fb9f3a"
             ],
             [
              0.8888888888888888,
              "#fdca26"
             ],
             [
              1,
              "#f0f921"
             ]
            ],
            "type": "contour"
           }
          ],
          "contourcarpet": [
           {
            "colorbar": {
             "outlinewidth": 0,
             "ticks": ""
            },
            "type": "contourcarpet"
           }
          ],
          "heatmap": [
           {
            "colorbar": {
             "outlinewidth": 0,
             "ticks": ""
            },
            "colorscale": [
             [
              0,
              "#0d0887"
             ],
             [
              0.1111111111111111,
              "#46039f"
             ],
             [
              0.2222222222222222,
              "#7201a8"
             ],
             [
              0.3333333333333333,
              "#9c179e"
             ],
             [
              0.4444444444444444,
              "#bd3786"
             ],
             [
              0.5555555555555556,
              "#d8576b"
             ],
             [
              0.6666666666666666,
              "#ed7953"
             ],
             [
              0.7777777777777778,
              "#fb9f3a"
             ],
             [
              0.8888888888888888,
              "#fdca26"
             ],
             [
              1,
              "#f0f921"
             ]
            ],
            "type": "heatmap"
           }
          ],
          "histogram": [
           {
            "marker": {
             "pattern": {
              "fillmode": "overlay",
              "size": 10,
              "solidity": 0.2
             }
            },
            "type": "histogram"
           }
          ],
          "histogram2d": [
           {
            "colorbar": {
             "outlinewidth": 0,
             "ticks": ""
            },
            "colorscale": [
             [
              0,
              "#0d0887"
             ],
             [
              0.1111111111111111,
              "#46039f"
             ],
             [
              0.2222222222222222,
              "#7201a8"
             ],
             [
              0.3333333333333333,
              "#9c179e"
             ],
             [
              0.4444444444444444,
              "#bd3786"
             ],
             [
              0.5555555555555556,
              "#d8576b"
             ],
             [
              0.6666666666666666,
              "#ed7953"
             ],
             [
              0.7777777777777778,
              "#fb9f3a"
             ],
             [
              0.8888888888888888,
              "#fdca26"
             ],
             [
              1,
              "#f0f921"
             ]
            ],
            "type": "histogram2d"
           }
          ],
          "histogram2dcontour": [
           {
            "colorbar": {
             "outlinewidth": 0,
             "ticks": ""
            },
            "colorscale": [
             [
              0,
              "#0d0887"
             ],
             [
              0.1111111111111111,
              "#46039f"
             ],
             [
              0.2222222222222222,
              "#7201a8"
             ],
             [
              0.3333333333333333,
              "#9c179e"
             ],
             [
              0.4444444444444444,
              "#bd3786"
             ],
             [
              0.5555555555555556,
              "#d8576b"
             ],
             [
              0.6666666666666666,
              "#ed7953"
             ],
             [
              0.7777777777777778,
              "#fb9f3a"
             ],
             [
              0.8888888888888888,
              "#fdca26"
             ],
             [
              1,
              "#f0f921"
             ]
            ],
            "type": "histogram2dcontour"
           }
          ],
          "mesh3d": [
           {
            "colorbar": {
             "outlinewidth": 0,
             "ticks": ""
            },
            "type": "mesh3d"
           }
          ],
          "parcoords": [
           {
            "line": {
             "colorbar": {
              "outlinewidth": 0,
              "ticks": ""
             }
            },
            "type": "parcoords"
           }
          ],
          "pie": [
           {
            "automargin": true,
            "type": "pie"
           }
          ],
          "scatter": [
           {
            "fillpattern": {
             "fillmode": "overlay",
             "size": 10,
             "solidity": 0.2
            },
            "type": "scatter"
           }
          ],
          "scatter3d": [
           {
            "line": {
             "colorbar": {
              "outlinewidth": 0,
              "ticks": ""
             }
            },
            "marker": {
             "colorbar": {
              "outlinewidth": 0,
              "ticks": ""
             }
            },
            "type": "scatter3d"
           }
          ],
          "scattercarpet": [
           {
            "marker": {
             "colorbar": {
              "outlinewidth": 0,
              "ticks": ""
             }
            },
            "type": "scattercarpet"
           }
          ],
          "scattergeo": [
           {
            "marker": {
             "colorbar": {
              "outlinewidth": 0,
              "ticks": ""
             }
            },
            "type": "scattergeo"
           }
          ],
          "scattergl": [
           {
            "marker": {
             "colorbar": {
              "outlinewidth": 0,
              "ticks": ""
             }
            },
            "type": "scattergl"
           }
          ],
          "scattermap": [
           {
            "marker": {
             "colorbar": {
              "outlinewidth": 0,
              "ticks": ""
             }
            },
            "type": "scattermap"
           }
          ],
          "scattermapbox": [
           {
            "marker": {
             "colorbar": {
              "outlinewidth": 0,
              "ticks": ""
             }
            },
            "type": "scattermapbox"
           }
          ],
          "scatterpolar": [
           {
            "marker": {
             "colorbar": {
              "outlinewidth": 0,
              "ticks": ""
             }
            },
            "type": "scatterpolar"
           }
          ],
          "scatterpolargl": [
           {
            "marker": {
             "colorbar": {
              "outlinewidth": 0,
              "ticks": ""
             }
            },
            "type": "scatterpolargl"
           }
          ],
          "scatterternary": [
           {
            "marker": {
             "colorbar": {
              "outlinewidth": 0,
              "ticks": ""
             }
            },
            "type": "scatterternary"
           }
          ],
          "surface": [
           {
            "colorbar": {
             "outlinewidth": 0,
             "ticks": ""
            },
            "colorscale": [
             [
              0,
              "#0d0887"
             ],
             [
              0.1111111111111111,
              "#46039f"
             ],
             [
              0.2222222222222222,
              "#7201a8"
             ],
             [
              0.3333333333333333,
              "#9c179e"
             ],
             [
              0.4444444444444444,
              "#bd3786"
             ],
             [
              0.5555555555555556,
              "#d8576b"
             ],
             [
              0.6666666666666666,
              "#ed7953"
             ],
             [
              0.7777777777777778,
              "#fb9f3a"
             ],
             [
              0.8888888888888888,
              "#fdca26"
             ],
             [
              1,
              "#f0f921"
             ]
            ],
            "type": "surface"
           }
          ],
          "table": [
           {
            "cells": {
             "fill": {
              "color": "#EBF0F8"
             },
             "line": {
              "color": "white"
             }
            },
            "header": {
             "fill": {
              "color": "#C8D4E3"
             },
             "line": {
              "color": "white"
             }
            },
            "type": "table"
           }
          ]
         },
         "layout": {
          "annotationdefaults": {
           "arrowcolor": "#2a3f5f",
           "arrowhead": 0,
           "arrowwidth": 1
          },
          "autotypenumbers": "strict",
          "coloraxis": {
           "colorbar": {
            "outlinewidth": 0,
            "ticks": ""
           }
          },
          "colorscale": {
           "diverging": [
            [
             0,
             "#8e0152"
            ],
            [
             0.1,
             "#c51b7d"
            ],
            [
             0.2,
             "#de77ae"
            ],
            [
             0.3,
             "#f1b6da"
            ],
            [
             0.4,
             "#fde0ef"
            ],
            [
             0.5,
             "#f7f7f7"
            ],
            [
             0.6,
             "#e6f5d0"
            ],
            [
             0.7,
             "#b8e186"
            ],
            [
             0.8,
             "#7fbc41"
            ],
            [
             0.9,
             "#4d9221"
            ],
            [
             1,
             "#276419"
            ]
           ],
           "sequential": [
            [
             0,
             "#0d0887"
            ],
            [
             0.1111111111111111,
             "#46039f"
            ],
            [
             0.2222222222222222,
             "#7201a8"
            ],
            [
             0.3333333333333333,
             "#9c179e"
            ],
            [
             0.4444444444444444,
             "#bd3786"
            ],
            [
             0.5555555555555556,
             "#d8576b"
            ],
            [
             0.6666666666666666,
             "#ed7953"
            ],
            [
             0.7777777777777778,
             "#fb9f3a"
            ],
            [
             0.8888888888888888,
             "#fdca26"
            ],
            [
             1,
             "#f0f921"
            ]
           ],
           "sequentialminus": [
            [
             0,
             "#0d0887"
            ],
            [
             0.1111111111111111,
             "#46039f"
            ],
            [
             0.2222222222222222,
             "#7201a8"
            ],
            [
             0.3333333333333333,
             "#9c179e"
            ],
            [
             0.4444444444444444,
             "#bd3786"
            ],
            [
             0.5555555555555556,
             "#d8576b"
            ],
            [
             0.6666666666666666,
             "#ed7953"
            ],
            [
             0.7777777777777778,
             "#fb9f3a"
            ],
            [
             0.8888888888888888,
             "#fdca26"
            ],
            [
             1,
             "#f0f921"
            ]
           ]
          },
          "colorway": [
           "#636efa",
           "#EF553B",
           "#00cc96",
           "#ab63fa",
           "#FFA15A",
           "#19d3f3",
           "#FF6692",
           "#B6E880",
           "#FF97FF",
           "#FECB52"
          ],
          "font": {
           "color": "#2a3f5f"
          },
          "geo": {
           "bgcolor": "white",
           "lakecolor": "white",
           "landcolor": "#E5ECF6",
           "showlakes": true,
           "showland": true,
           "subunitcolor": "white"
          },
          "hoverlabel": {
           "align": "left"
          },
          "hovermode": "closest",
          "mapbox": {
           "style": "light"
          },
          "paper_bgcolor": "white",
          "plot_bgcolor": "#E5ECF6",
          "polar": {
           "angularaxis": {
            "gridcolor": "white",
            "linecolor": "white",
            "ticks": ""
           },
           "bgcolor": "#E5ECF6",
           "radialaxis": {
            "gridcolor": "white",
            "linecolor": "white",
            "ticks": ""
           }
          },
          "scene": {
           "xaxis": {
            "backgroundcolor": "#E5ECF6",
            "gridcolor": "white",
            "gridwidth": 2,
            "linecolor": "white",
            "showbackground": true,
            "ticks": "",
            "zerolinecolor": "white"
           },
           "yaxis": {
            "backgroundcolor": "#E5ECF6",
            "gridcolor": "white",
            "gridwidth": 2,
            "linecolor": "white",
            "showbackground": true,
            "ticks": "",
            "zerolinecolor": "white"
           },
           "zaxis": {
            "backgroundcolor": "#E5ECF6",
            "gridcolor": "white",
            "gridwidth": 2,
            "linecolor": "white",
            "showbackground": true,
            "ticks": "",
            "zerolinecolor": "white"
           }
          },
          "shapedefaults": {
           "line": {
            "color": "#2a3f5f"
           }
          },
          "ternary": {
           "aaxis": {
            "gridcolor": "white",
            "linecolor": "white",
            "ticks": ""
           },
           "baxis": {
            "gridcolor": "white",
            "linecolor": "white",
            "ticks": ""
           },
           "bgcolor": "#E5ECF6",
           "caxis": {
            "gridcolor": "white",
            "linecolor": "white",
            "ticks": ""
           }
          },
          "title": {
           "x": 0.05
          },
          "xaxis": {
           "automargin": true,
           "gridcolor": "white",
           "linecolor": "white",
           "ticks": "",
           "title": {
            "standoff": 15
           },
           "zerolinecolor": "white",
           "zerolinewidth": 2
          },
          "yaxis": {
           "automargin": true,
           "gridcolor": "white",
           "linecolor": "white",
           "ticks": "",
           "title": {
            "standoff": 15
           },
           "zerolinecolor": "white",
           "zerolinewidth": 2
          }
         }
        },
        "title": {
         "text": "💰 Top 5 Produtos com maior receita gerada - Visão Mensal"
        },
        "xaxis": {
         "anchor": "y",
         "domain": [
          0,
          1
         ],
         "showticklabels": true,
         "title": {
          "text": "Mês"
         }
        },
        "xaxis2": {
         "anchor": "y2",
         "domain": [
          0,
          1
         ],
         "showticklabels": true
        },
        "xaxis3": {
         "anchor": "y3",
         "domain": [
          0,
          1
         ],
         "showticklabels": true
        },
        "xaxis4": {
         "anchor": "y4",
         "domain": [
          0,
          1
         ],
         "showticklabels": true
        },
        "xaxis5": {
         "anchor": "y5",
         "domain": [
          0,
          1
         ],
         "showticklabels": true
        },
        "yaxis": {
         "anchor": "x",
         "automargin": true,
         "domain": [
          0,
          0.144
         ],
         "title": {
          "text": "Receita (£)"
         }
        },
        "yaxis2": {
         "anchor": "x2",
         "automargin": true,
         "domain": [
          0.214,
          0.358
         ],
         "title": {
          "text": "Receita (£)"
         }
        },
        "yaxis3": {
         "anchor": "x3",
         "automargin": true,
         "domain": [
          0.428,
          0.572
         ],
         "title": {
          "text": "Receita (£)"
         }
        },
        "yaxis4": {
         "anchor": "x4",
         "automargin": true,
         "domain": [
          0.6419999999999999,
          0.7859999999999999
         ],
         "title": {
          "text": "Receita (£)"
         }
        },
        "yaxis5": {
         "anchor": "x5",
         "automargin": true,
         "domain": [
          0.856,
          1
         ],
         "title": {
          "text": "Receita (£)"
         }
        }
       }
      }
     },
     "metadata": {},
     "output_type": "display_data"
    }
   ],
   "source": [
    "# Obter os 5 produtos com maior receita total\n",
    "top_5_receita = receita_por_produto['Description'].tolist()\n",
    "\n",
    "# Filtrar o DataFrame original para conter apenas esses 5 produtos\n",
    "df_top5_receita = df_sales[df_sales['Description'].isin(top_5_receita)]\n",
    "\n",
    "# Agrupar a receita por mês (AnoMes) e produto (Description), somando a receita total\n",
    "receita_mensal = (\n",
    "    df_top5_receita.groupby(['AnoMes', 'Description'])['TotalPrice']\n",
    "    .sum()\n",
    "    .reset_index()\n",
    ")\n",
    "\n",
    "# Converter o campo AnoMes para datetime, para que o eixo X fique ordenado corretamente no gráfico\n",
    "receita_mensal['AnoMes'] = pd.to_datetime(receita_mensal['AnoMes'])\n",
    "\n",
    "# Criar gráfico de barras com facetas (um gráfico por produto, em linhas separadas)\n",
    "fig = px.bar(\n",
    "    receita_mensal,\n",
    "    x='AnoMes',              # eixo X = mês\n",
    "    y='TotalPrice',          # eixo Y = receita gerada\n",
    "    color='Description',     # cor por produto\n",
    "    facet_col='Description', # um gráfico separado por produto\n",
    "    facet_col_wrap=1,        # um gráfico por linha (layout vertical)\n",
    "    title='💰 Top 5 Produtos com maior receita gerada - Visão Mensal',\n",
    "    labels={\n",
    "        \"Description\": \"Produto\",\n",
    "        \"AnoMes\": \"Mês\",\n",
    "        \"TotalPrice\": \"Receita (£)\"\n",
    "    },\n",
    ")\n",
    "\n",
    "# Ajustes no layout geral do gráfico\n",
    "fig.update_layout(\n",
    "    showlegend=False,           # remove legenda (cada produto já tem seu próprio gráfico)\n",
    "    height=1400,                # define altura total do gráfico\n",
    "    xaxis_title='Mês',          # título eixo X\n",
    "    yaxis_title='Receita (£)',  # título eixo Y\n",
    "    margin=dict(t=150),         # margem superior para o título\n",
    ")\n",
    "\n",
    "# Mostrar rótulos do eixo X em todas as facetas\n",
    "fig.update_xaxes(matches=None, showticklabels=True)\n",
    "\n",
    "# Eixos Y independentes para cada gráfico (útil se os valores variam muito entre produtos)\n",
    "fig.update_yaxes(matches=None, automargin=True)\n",
    "\n",
    "# Adicionar valores dentro das barras, com duas casas decimais, sem rotação e com fonte reduzida\n",
    "fig.update_traces(\n",
    "    texttemplate='%{y:.2f}',\n",
    "    textposition='inside',\n",
    "    textfont_size=10,\n",
    "    textangle=0\n",
    ")\n",
    "\n",
    "# Exibir o gráfico\n",
    "fig.show()"
   ]
  },
  {
   "attachments": {
    "image.png": {
     "image/png": "[encoded data removed]"
    }
   },
   "cell_type": "markdown",
   "id": "ec17e2cc",
   "metadata": {},
   "source": [
    "![image.png](attachment:image.png)"
   ]
  },
  {
   "cell_type": "markdown",
   "id": "a2cef607",
   "metadata": {},
   "source": [
    "### 5.1 📌 Conclusão Final da Análise de Produtos\n",
    "\n",
    "Esta análise compara a **quantidade vendida** e a **receita gerada** mensalmente por alguns dos principais produtos da base de dados entre 2009 e 2011.\n",
    "\n",
    "### 🧮 Quantidade Vendida: Produtos em Destaque\n",
    "\n",
    "- **WHITE HANGING HEART T-LIGHT HOLDER** foi o produto mais vendido de forma consistente ao longo do período, com altos volumes mensais.\n",
    "- **WORLD WAR 2 GLIDERS ASSTD DESIGNS** teve picos de vendas especialmente em **novembro e dezembro**, indicando forte apelo sazonal.\n",
    "- **ASSORTED COLOUR BIRD ORNAMENT** também apresentou aumento de vendas nos trimestres finais dos anos, reforçando o padrão de sazonalidade.\n",
    "\n",
    "### 💰 Receita Gerada: Produtos Mais Rentáveis\n",
    "\n",
    "- **REGENCY CAKESTAND 3 TIER** teve alto desempenho em receita mesmo com menor volume de vendas, alcançando valores acima de **R$ 37 mil** em meses-chave — indicando alto ticket médio.\n",
    "- **WHITE HANGING HEART T-LIGHT HOLDER** combinou alto volume e boa receita, sendo um produto com bom giro e retorno financeiro.\n",
    "- **PAPER CRAFT, LITTLE BIRDIE** teve um pico isolado em **dezembro de 2011**, com quase **R$ 170 mil** em receita e alto volume vendido. Como não há registros anteriores, isso pode indicar um **produto novo**, com forte lançamento ou popularidade repentina.\n",
    "\n",
    "### 🔁 Nem sempre Quantidade = Receita\n",
    "\n",
    "- Produtos com muitas unidades vendidas nem sempre geram a maior receita.\n",
    "- Exemplo: *WORLD WAR 2 GLIDERS ASSTD DESIGNS* vende bastante, mas tem baixo valor unitário.\n",
    "- Já *REGENCY CAKESTAND 3 TIER*, com vendas moderadas, gera receita expressiva — reforçando a importância de analisar o **ticket médio**.\n",
    "\n",
    "### 🔎 Casos Específicos\n",
    "\n",
    "- **MEDIUM CERAMIC TOP STORAGE JAR** teve destaque **apenas em janeiro de 2011**, com mais de **74 mil unidades vendidas**. Nos meses seguintes, praticamente não aparece — sugerindo um pico pontual, provavelmente relacionado a queima de estoque, campanha específica ou erro de entrada.\n",
    "- **PAPER CRAFT, LITTLE BIRDIE**, como citado, só aparece em **dez/2011**, mas com impacto direto em **quantidade e receita**, sendo um caso interessante de sucesso imediato.\n",
    "\n",
    "### 📅 Padrões Sazonais\n",
    "\n",
    "- **Novembro e dezembro** concentraram os maiores volumes e receitas, reforçando o comportamento típico de fim de ano.\n",
    "- Já os meses de **janeiro e fevereiro** mostraram queda no desempenho, refletindo a retração do mercado após as festas.\n",
    "\n",
    "### ✅ Conclusão\n",
    "\n",
    "- Produtos com alto volume **e** receita devem ser priorizados no planejamento.\n",
    "- Itens com **alto valor agregado**, mesmo com vendas menores, representam grande potencial de lucro.\n",
    "- Casos como *PAPER CRAFT* e *MEDIUM CERAMIC* mostram a importância de observar **picos isolados** e investigar seus motivos — novos lançamentos, promoções ou oportunidades únicas."
   ]
  },
  {
   "cell_type": "markdown",
   "id": "110bd168",
   "metadata": {},
   "source": [
    "## 6. Análise Geográfica"
   ]
  },
  {
   "cell_type": "code",
   "execution_count": 15,
   "id": "e3d75620",
   "metadata": {},
   "outputs": [],
   "source": [
    "# Realizando um agrupamento de receita gerada por país\n",
    "receita_por_pais = (\n",
    "    df_sales.groupby('Country')['TotalPrice']\n",
    "    .sum()\n",
    "    .reset_index()\n",
    "    .sort_values(by='TotalPrice', ascending=False)\n",
    ")"
   ]
  },
  {
   "cell_type": "code",
   "execution_count": 16,
   "id": "71bc9b98",
   "metadata": {},
   "outputs": [
    {
     "name": "stdout",
     "output_type": "stream",
     "text": [
      "📊 O TOP 5 Países com maior receita gerada são:\n",
      "\n",
      "United Kingdom — £16685708.13\n",
      "Ireland — £611599.56\n",
      "Netherlands — £534353.87\n",
      "Germany — £373955.00\n",
      "France — £306574.92\n"
     ]
    }
   ],
   "source": [
    "# Exibindo o TOP 5 países com destaque\n",
    "print(\"📊 O TOP 5 Países com maior receita gerada são:\\n\")\n",
    "\n",
    "top_5_paises_receita = receita_por_pais.head(5)\n",
    "\n",
    "for _, row in top_5_paises_receita.iterrows():\n",
    "    print(f\"{row['Country']} — £{row['TotalPrice']:.2f}\")"
   ]
  },
  {
   "cell_type": "code",
   "execution_count": 17,
   "id": "8b7fdc36",
   "metadata": {},
   "outputs": [
    {
     "data": {
      "application/vnd.plotly.v1+json": {
       "config": {
        "plotlyServerURL": "https://plot.ly"
       },
       "data": [
        {
         "coloraxis": "coloraxis",
         "customdata": {
          "bdata": "w/UohFHTb0H5yB9SruMcQOxRuB4fqiJBXYCf1VclF0DXo3C9o04gQZb/KzVM6RZAAAAAAAzTFkFTSmp1kUoWQOF6FK47thJBq8YrBzfyFUBSuB6FOzIEQW4y0xvp3xRApHA9CneX90BnLsoRxPATQB+F61HEYvZAeX3K/W7ZE0AfhetRJDH0QDj9bZKQqxNApHA9Ci+V70CLPGPXPj4TQD0K16OgGetAlKRVFSz6EkAfhetRkGHnQEHHl22HuBJA16NwPbJT5UD0CsCFoo8SQGZmZma+lORAEQiigM1/EkD2KFyPKt/jQBcsZ9g0cBJACtejcE1T20DMCyNwm8kRQDMzMzNzFdhAlYvVjnOREUD2KFyPMobXQGRo0Dv/hhFAZmZmZtaJ0kAt01HFEx0RQClcj8JFDtJAff26dlgREUAAAAAAIPzJQIrLROX/fhBAFK5H4bp4yUAYTubNIHYQQEjhehQO6cVAFKPiSygzEECuR+F6VD/FQGX1wnx+JRBAAAAAAOD8w0AIQwywUQoQQHE9CtdDwMNABLcgOwUFEEApXI/C9Q6+QPJQqvMQFw9APQrXo7CxuEC4wuM/P2gOQAAAAAAAobRATEuhhkrIDUCPwvUoXNyxQHBo2n0pSA1AmpmZmRnssEBV70zsKRgNQI/C9ShcKapAPbnU8DQzDEBI4XoUrtmnQMSKCRb34AtAexSuR2GjpUCzxGCLa4oLQIXrUbgeuZxALcvvsP8dCkCuR+F6FMiVQNivXckZKAlAwvUoXI+Uk0Bph0+jackIQAAAAAAAHZJAQxcEnjOECEDXo3A9CnqRQNZTt8doZAhAUrgeheuViECEPxXMyisHQOF6FK5Hf4BAz8m/YnzJBUA9CtejcD1iQAZCboUuVgFASOF6FK5XUkAtu9TMPvH9Pw==",
          "dtype": "f8",
          "shape": "43, 2"
         },
         "geo": "geo",
         "hovertemplate": "<b>%{hovertext}</b><br><br>Country=%{location}<br>TotalPrice=%{customdata[0]:.2f}<extra></extra>",
         "hovertext": [
          "United Kingdom",
          "Ireland",
          "Netherlands",
          "Germany",
          "France",
          "Australia",
          "Spain",
          "Switzerland",
          "Sweden",
          "Denmark",
          "Belgium",
          "Portugal",
          "Japan",
          "Guernsey",
          "Norway",
          "Italy",
          "Finland",
          "Cyprus",
          "Austria",
          "Greece",
          "Hong Kong",
          "Singapore",
          "Israel",
          "Unspecified",
          "Poland",
          "United Arab Emirates",
          "United States",
          "Lithuania",
          "Iceland",
          "Malta",
          "Canada",
          "South Africa",
          "Thailand",
          "Bahrain",
          "Lebanon",
          "Brazil",
          "Bermuda",
          "European Union",
          "South Korea",
          "Czech Republic",
          "Caribbean",
          "Saudi Arabia",
          "Nigeria"
         ],
         "locationmode": "country names",
         "locations": [
          "United Kingdom",
          "Ireland",
          "Netherlands",
          "Germany",
          "France",
          "Australia",
          "Spain",
          "Switzerland",
          "Sweden",
          "Denmark",
          "Belgium",
          "Portugal",
          "Japan",
          "Guernsey",
          "Norway",
          "Italy",
          "Finland",
          "Cyprus",
          "Austria",
          "Greece",
          "Hong Kong",
          "Singapore",
          "Israel",
          "Unspecified",
          "Poland",
          "United Arab Emirates",
          "United States",
          "Lithuania",
          "Iceland",
          "Malta",
          "Canada",
          "South Africa",
          "Thailand",
          "Bahrain",
          "Lebanon",
          "Brazil",
          "Bermuda",
          "European Union",
          "South Korea",
          "Czech Republic",
          "Caribbean",
          "Saudi Arabia",
          "Nigeria"
         ],
         "name": "",
         "type": "choropleth",
         "z": {
          "bdata": "+cgfUq7jHEBdgJ/VVyUXQJb/KzVM6RZAU0pqdZFKFkCrxisHN/IVQG4y0xvp3xRAZy7KEcTwE0B5fcr9btkTQDj9bZKQqxNAizxj1z4+E0CUpFUVLPoSQEHHl22HuBJA9ArAhaKPEkARCKKAzX8SQBcsZ9g0cBJAzAsjcJvJEUCVi9WOc5ERQGRo0Dv/hhFALdNRxRMdEUB9/bp2WBERQIrLROX/fhBAGE7mzSB2EEAUo+JLKDMQQGX1wnx+JRBACEMMsFEKEEAEtyA7BQUQQPJQqvMQFw9AuMLjPz9oDkBMS6GGSsgNQHBo2n0pSA1AVe9M7CkYDUA9udTwNDMMQMSKCRb34AtAs8Rgi2uKC0Aty++w/x0KQNivXckZKAlAaYdPo2nJCEBDFwSeM4QIQNZTt8doZAhAhD8VzMorB0DPyb9ifMkFQAZCboUuVgFALbvUzD7x/T8=",
          "dtype": "f8"
         }
        }
       ],
       "layout": {
        "coloraxis": {
         "colorbar": {
          "title": {
           "text": "Log10 da Receita"
          }
         },
         "colorscale": [
          [
           0,
           "rgb(247,252,245)"
          ],
          [
           0.125,
           "rgb(229,245,224)"
          ],
          [
           0.25,
           "rgb(199,233,192)"
          ],
          [
           0.375,
           "rgb(161,217,155)"
          ],
          [
           0.5,
           "rgb(116,196,118)"
          ],
          [
           0.625,
           "rgb(65,171,93)"
          ],
          [
           0.75,
           "rgb(35,139,69)"
          ],
          [
           0.875,
           "rgb(0,109,44)"
          ],
          [
           1,
           "rgb(0,68,27)"
          ]
         ]
        },
        "font": {
         "family": "Arial",
         "size": 14
        },
        "geo": {
         "bgcolor": "rgba(0,0,0,0)",
         "center": {},
         "coastlinecolor": "RebeccaPurple",
         "domain": {
          "x": [
           0,
           1
          ],
          "y": [
           0,
           1
          ]
         },
         "projection": {
          "type": "natural earth"
         },
         "showcoastlines": true,
         "showframe": false
        },
        "height": 700,
        "legend": {
         "tracegroupgap": 0
        },
        "margin": {
         "b": 0,
         "l": 0,
         "r": 0,
         "t": 50
        },
        "template": {
         "data": {
          "bar": [
           {
            "error_x": {
             "color": "#2a3f5f"
            },
            "error_y": {
             "color": "#2a3f5f"
            },
            "marker": {
             "line": {
              "color": "#E5ECF6",
              "width": 0.5
             },
             "pattern": {
              "fillmode": "overlay",
              "size": 10,
              "solidity": 0.2
             }
            },
            "type": "bar"
           }
          ],
          "barpolar": [
           {
            "marker": {
             "line": {
              "color": "#E5ECF6",
              "width": 0.5
             },
             "pattern": {
              "fillmode": "overlay",
              "size": 10,
              "solidity": 0.2
             }
            },
            "type": "barpolar"
           }
          ],
          "carpet": [
           {
            "aaxis": {
             "endlinecolor": "#2a3f5f",
             "gridcolor": "white",
             "linecolor": "white",
             "minorgridcolor": "white",
             "startlinecolor": "#2a3f5f"
            },
            "baxis": {
             "endlinecolor": "#2a3f5f",
             "gridcolor": "white",
             "linecolor": "white",
             "minorgridcolor": "white",
             "startlinecolor": "#2a3f5f"
            },
            "type": "carpet"
           }
          ],
          "choropleth": [
           {
            "colorbar": {
             "outlinewidth": 0,
             "ticks": ""
            },
            "type": "choropleth"
           }
          ],
          "contour": [
           {
            "colorbar": {
             "outlinewidth": 0,
             "ticks": ""
            },
            "colorscale": [
             [
              0,
              "#0d0887"
             ],
             [
              0.1111111111111111,
              "#46039f"
             ],
             [
              0.2222222222222222,
              "#7201a8"
             ],
             [
              0.3333333333333333,
              "#9c179e"
             ],
             [
              0.4444444444444444,
              "#bd3786"
             ],
             [
              0.5555555555555556,
              "#d8576b"
             ],
             [
              0.6666666666666666,
              "#ed7953"
             ],
             [
              0.7777777777777778,
              "#fb9f3a"
             ],
             [
              0.8888888888888888,
              "#fdca26"
             ],
             [
              1,
              "#f0f921"
             ]
            ],
            "type": "contour"
           }
          ],
          "contourcarpet": [
           {
            "colorbar": {
             "outlinewidth": 0,
             "ticks": ""
            },
            "type": "contourcarpet"
           }
          ],
          "heatmap": [
           {
            "colorbar": {
             "outlinewidth": 0,
             "ticks": ""
            },
            "colorscale": [
             [
              0,
              "#0d0887"
             ],
             [
              0.1111111111111111,
              "#46039f"
             ],
             [
              0.2222222222222222,
              "#7201a8"
             ],
             [
              0.3333333333333333,
              "#9c179e"
             ],
             [
              0.4444444444444444,
              "#bd3786"
             ],
             [
              0.5555555555555556,
              "#d8576b"
             ],
             [
              0.6666666666666666,
              "#ed7953"
             ],
             [
              0.7777777777777778,
              "#fb9f3a"
             ],
             [
              0.8888888888888888,
              "#fdca26"
             ],
             [
              1,
              "#f0f921"
             ]
            ],
            "type": "heatmap"
           }
          ],
          "histogram": [
           {
            "marker": {
             "pattern": {
              "fillmode": "overlay",
              "size": 10,
              "solidity": 0.2
             }
            },
            "type": "histogram"
           }
          ],
          "histogram2d": [
           {
            "colorbar": {
             "outlinewidth": 0,
             "ticks": ""
            },
            "colorscale": [
             [
              0,
              "#0d0887"
             ],
             [
              0.1111111111111111,
              "#46039f"
             ],
             [
              0.2222222222222222,
              "#7201a8"
             ],
             [
              0.3333333333333333,
              "#9c179e"
             ],
             [
              0.4444444444444444,
              "#bd3786"
             ],
             [
              0.5555555555555556,
              "#d8576b"
             ],
             [
              0.6666666666666666,
              "#ed7953"
             ],
             [
              0.7777777777777778,
              "#fb9f3a"
             ],
             [
              0.8888888888888888,
              "#fdca26"
             ],
             [
              1,
              "#f0f921"
             ]
            ],
            "type": "histogram2d"
           }
          ],
          "histogram2dcontour": [
           {
            "colorbar": {
             "outlinewidth": 0,
             "ticks": ""
            },
            "colorscale": [
             [
              0,
              "#0d0887"
             ],
             [
              0.1111111111111111,
              "#46039f"
             ],
             [
              0.2222222222222222,
              "#7201a8"
             ],
             [
              0.3333333333333333,
              "#9c179e"
             ],
             [
              0.4444444444444444,
              "#bd3786"
             ],
             [
              0.5555555555555556,
              "#d8576b"
             ],
             [
              0.6666666666666666,
              "#ed7953"
             ],
             [
              0.7777777777777778,
              "#fb9f3a"
             ],
             [
              0.8888888888888888,
              "#fdca26"
             ],
             [
              1,
              "#f0f921"
             ]
            ],
            "type": "histogram2dcontour"
           }
          ],
          "mesh3d": [
           {
            "colorbar": {
             "outlinewidth": 0,
             "ticks": ""
            },
            "type": "mesh3d"
           }
          ],
          "parcoords": [
           {
            "line": {
             "colorbar": {
              "outlinewidth": 0,
              "ticks": ""
             }
            },
            "type": "parcoords"
           }
          ],
          "pie": [
           {
            "automargin": true,
            "type": "pie"
           }
          ],
          "scatter": [
           {
            "fillpattern": {
             "fillmode": "overlay",
             "size": 10,
             "solidity": 0.2
            },
            "type": "scatter"
           }
          ],
          "scatter3d": [
           {
            "line": {
             "colorbar": {
              "outlinewidth": 0,
              "ticks": ""
             }
            },
            "marker": {
             "colorbar": {
              "outlinewidth": 0,
              "ticks": ""
             }
            },
            "type": "scatter3d"
           }
          ],
          "scattercarpet": [
           {
            "marker": {
             "colorbar": {
              "outlinewidth": 0,
              "ticks": ""
             }
            },
            "type": "scattercarpet"
           }
          ],
          "scattergeo": [
           {
            "marker": {
             "colorbar": {
              "outlinewidth": 0,
              "ticks": ""
             }
            },
            "type": "scattergeo"
           }
          ],
          "scattergl": [
           {
            "marker": {
             "colorbar": {
              "outlinewidth": 0,
              "ticks": ""
             }
            },
            "type": "scattergl"
           }
          ],
          "scattermap": [
           {
            "marker": {
             "colorbar": {
              "outlinewidth": 0,
              "ticks": ""
             }
            },
            "type": "scattermap"
           }
          ],
          "scattermapbox": [
           {
            "marker": {
             "colorbar": {
              "outlinewidth": 0,
              "ticks": ""
             }
            },
            "type": "scattermapbox"
           }
          ],
          "scatterpolar": [
           {
            "marker": {
             "colorbar": {
              "outlinewidth": 0,
              "ticks": ""
             }
            },
            "type": "scatterpolar"
           }
          ],
          "scatterpolargl": [
           {
            "marker": {
             "colorbar": {
              "outlinewidth": 0,
              "ticks": ""
             }
            },
            "type": "scatterpolargl"
           }
          ],
          "scatterternary": [
           {
            "marker": {
             "colorbar": {
              "outlinewidth": 0,
              "ticks": ""
             }
            },
            "type": "scatterternary"
           }
          ],
          "surface": [
           {
            "colorbar": {
             "outlinewidth": 0,
             "ticks": ""
            },
            "colorscale": [
             [
              0,
              "#0d0887"
             ],
             [
              0.1111111111111111,
              "#46039f"
             ],
             [
              0.2222222222222222,
              "#7201a8"
             ],
             [
              0.3333333333333333,
              "#9c179e"
             ],
             [
              0.4444444444444444,
              "#bd3786"
             ],
             [
              0.5555555555555556,
              "#d8576b"
             ],
             [
              0.6666666666666666,
              "#ed7953"
             ],
             [
              0.7777777777777778,
              "#fb9f3a"
             ],
             [
              0.8888888888888888,
              "#fdca26"
             ],
             [
              1,
              "#f0f921"
             ]
            ],
            "type": "surface"
           }
          ],
          "table": [
           {
            "cells": {
             "fill": {
              "color": "#EBF0F8"
             },
             "line": {
              "color": "white"
             }
            },
            "header": {
             "fill": {
              "color": "#C8D4E3"
             },
             "line": {
              "color": "white"
             }
            },
            "type": "table"
           }
          ]
         },
         "layout": {
          "annotationdefaults": {
           "arrowcolor": "#2a3f5f",
           "arrowhead": 0,
           "arrowwidth": 1
          },
          "autotypenumbers": "strict",
          "coloraxis": {
           "colorbar": {
            "outlinewidth": 0,
            "ticks": ""
           }
          },
          "colorscale": {
           "diverging": [
            [
             0,
             "#8e0152"
            ],
            [
             0.1,
             "#c51b7d"
            ],
            [
             0.2,
             "#de77ae"
            ],
            [
             0.3,
             "#f1b6da"
            ],
            [
             0.4,
             "#fde0ef"
            ],
            [
             0.5,
             "#f7f7f7"
            ],
            [
             0.6,
             "#e6f5d0"
            ],
            [
             0.7,
             "#b8e186"
            ],
            [
             0.8,
             "#7fbc41"
            ],
            [
             0.9,
             "#4d9221"
            ],
            [
             1,
             "#276419"
            ]
           ],
           "sequential": [
            [
             0,
             "#0d0887"
            ],
            [
             0.1111111111111111,
             "#46039f"
            ],
            [
             0.2222222222222222,
             "#7201a8"
            ],
            [
             0.3333333333333333,
             "#9c179e"
            ],
            [
             0.4444444444444444,
             "#bd3786"
            ],
            [
             0.5555555555555556,
             "#d8576b"
            ],
            [
             0.6666666666666666,
             "#ed7953"
            ],
            [
             0.7777777777777778,
             "#fb9f3a"
            ],
            [
             0.8888888888888888,
             "#fdca26"
            ],
            [
             1,
             "#f0f921"
            ]
           ],
           "sequentialminus": [
            [
             0,
             "#0d0887"
            ],
            [
             0.1111111111111111,
             "#46039f"
            ],
            [
             0.2222222222222222,
             "#7201a8"
            ],
            [
             0.3333333333333333,
             "#9c179e"
            ],
            [
             0.4444444444444444,
             "#bd3786"
            ],
            [
             0.5555555555555556,
             "#d8576b"
            ],
            [
             0.6666666666666666,
             "#ed7953"
            ],
            [
             0.7777777777777778,
             "#fb9f3a"
            ],
            [
             0.8888888888888888,
             "#fdca26"
            ],
            [
             1,
             "#f0f921"
            ]
           ]
          },
          "colorway": [
           "#636efa",
           "#EF553B",
           "#00cc96",
           "#ab63fa",
           "#FFA15A",
           "#19d3f3",
           "#FF6692",
           "#B6E880",
           "#FF97FF",
           "#FECB52"
          ],
          "font": {
           "color": "#2a3f5f"
          },
          "geo": {
           "bgcolor": "white",
           "lakecolor": "white",
           "landcolor": "#E5ECF6",
           "showlakes": true,
           "showland": true,
           "subunitcolor": "white"
          },
          "hoverlabel": {
           "align": "left"
          },
          "hovermode": "closest",
          "mapbox": {
           "style": "light"
          },
          "paper_bgcolor": "white",
          "plot_bgcolor": "#E5ECF6",
          "polar": {
           "angularaxis": {
            "gridcolor": "white",
            "linecolor": "white",
            "ticks": ""
           },
           "bgcolor": "#E5ECF6",
           "radialaxis": {
            "gridcolor": "white",
            "linecolor": "white",
            "ticks": ""
           }
          },
          "scene": {
           "xaxis": {
            "backgroundcolor": "#E5ECF6",
            "gridcolor": "white",
            "gridwidth": 2,
            "linecolor": "white",
            "showbackground": true,
            "ticks": "",
            "zerolinecolor": "white"
           },
           "yaxis": {
            "backgroundcolor": "#E5ECF6",
            "gridcolor": "white",
            "gridwidth": 2,
            "linecolor": "white",
            "showbackground": true,
            "ticks": "",
            "zerolinecolor": "white"
           },
           "zaxis": {
            "backgroundcolor": "#E5ECF6",
            "gridcolor": "white",
            "gridwidth": 2,
            "linecolor": "white",
            "showbackground": true,
            "ticks": "",
            "zerolinecolor": "white"
           }
          },
          "shapedefaults": {
           "line": {
            "color": "#2a3f5f"
           }
          },
          "ternary": {
           "aaxis": {
            "gridcolor": "white",
            "linecolor": "white",
            "ticks": ""
           },
           "baxis": {
            "gridcolor": "white",
            "linecolor": "white",
            "ticks": ""
           },
           "bgcolor": "#E5ECF6",
           "caxis": {
            "gridcolor": "white",
            "linecolor": "white",
            "ticks": ""
           }
          },
          "title": {
           "x": 0.05
          },
          "xaxis": {
           "automargin": true,
           "gridcolor": "white",
           "linecolor": "white",
           "ticks": "",
           "title": {
            "standoff": 15
           },
           "zerolinecolor": "white",
           "zerolinewidth": 2
          },
          "yaxis": {
           "automargin": true,
           "gridcolor": "white",
           "linecolor": "white",
           "ticks": "",
           "title": {
            "standoff": 15
           },
           "zerolinecolor": "white",
           "zerolinewidth": 2
          }
         }
        },
        "title": {
         "text": "🌍 Receita Total por País (Escala Logarítmica)"
        },
        "width": 1500
       }
      }
     },
     "metadata": {},
     "output_type": "display_data"
    }
   ],
   "source": [
    "# Criar uma nova coluna com o logaritmo da receita para suavizar a escala de cores\n",
    "# Adiciona-se 1 para evitar log(0), que é indefinido\n",
    "receita_por_pais['log_TotalPrice'] = np.log10(receita_por_pais['TotalPrice'] + 1)\n",
    "\n",
    "# Criar um mapa coroplético (choropleth) com Plotly\n",
    "fig = px.choropleth(\n",
    "    receita_por_pais,\n",
    "    locations='Country',              # coluna com nomes dos países\n",
    "    locationmode='country names',     # usar nomes completos de países\n",
    "    color='log_TotalPrice',           # variável que define a cor (escala log)\n",
    "    color_continuous_scale='Greens',  # cores do verde claro ao verde escuro\n",
    "    title='🌍 Receita Total por País (Escala Logarítmica)',\n",
    "    hover_name='Country',             # nome do país ao passar o mouse\n",
    "    hover_data={                      # dados extras no hover\n",
    "        'TotalPrice': ':.2f',         # mostrar receita com duas casas decimais\n",
    "        'log_TotalPrice': False       # não mostrar a versão logarítmica\n",
    "    },\n",
    ")\n",
    "\n",
    "# Ajustar a legenda da escala de cores\n",
    "fig.update_coloraxes(colorbar_title='Log10 da Receita')\n",
    "\n",
    "# Ajustes visuais no mapa e layout geral\n",
    "fig.update_layout(\n",
    "    geo=dict(\n",
    "        showframe=False,               # sem moldura ao redor do mapa\n",
    "        showcoastlines=True,           # mostrar linhas de costa\n",
    "        coastlinecolor=\"RebeccaPurple\",# cor personalizada para as costas\n",
    "        projection_type='natural earth',  # tipo de projeção geográfica\n",
    "        bgcolor='rgba(0,0,0,0)',       # fundo transparente\n",
    "    ),\n",
    "    margin=dict(l=0, r=0, t=50, b=0),  # margens do gráfico\n",
    "    font=dict(family=\"Arial\", size=14),# estilo da fonte\n",
    "    width=1500,                         # largura da figura\n",
    "    height=700,                         # altura da figura\n",
    ")\n",
    "\n",
    "# Exibir o mapa\n",
    "fig.show()"
   ]
  },
  {
   "attachments": {
    "image.png": {
     "image/png": "[encoded data removed]"
    }
   },
   "cell_type": "markdown",
   "id": "82225133",
   "metadata": {},
   "source": [
    "![image.png](attachment:image.png)"
   ]
  },
  {
   "cell_type": "code",
   "execution_count": 18,
   "id": "8d2e7d78",
   "metadata": {},
   "outputs": [],
   "source": [
    "# Realizando um agrupamento de quantidade vendida por país\n",
    "quantidade_por_pais = (\n",
    "    df_sales.groupby('Country')['Quantity']\n",
    "    .sum()\n",
    "    .reset_index()\n",
    "    .sort_values(by='Quantity', ascending=False)\n",
    ")"
   ]
  },
  {
   "cell_type": "code",
   "execution_count": 19,
   "id": "0273c784",
   "metadata": {},
   "outputs": [
    {
     "name": "stdout",
     "output_type": "stream",
     "text": [
      "📊 O TOP 5 Países com maior quantidade vendida são:\n",
      "\n",
      "United Kingdom — £9093654\n",
      "Netherlands — £372529\n",
      "Ireland — £333003\n",
      "France — £268638\n",
      "Denmark — £220004\n"
     ]
    }
   ],
   "source": [
    "# Exibindo o TOP 5 países com destaque \n",
    "print(\"📊 O TOP 5 Países com maior quantidade vendida são:\\n\")\n",
    "\n",
    "top_5_paises_quantidade = quantidade_por_pais.head(5)\n",
    "\n",
    "for _, row in top_5_paises_quantidade.iterrows():\n",
    "    print(f\"{row['Country']} — £{row['Quantity']}\")"
   ]
  },
  {
   "cell_type": "code",
   "execution_count": 20,
   "id": "1dc2d4d5",
   "metadata": {},
   "outputs": [
    {
     "data": {
      "application/vnd.plotly.v1+json": {
       "config": {
        "plotlyServerURL": "https://plot.ly"
       },
       "data": [
        {
         "coloraxis": "coloraxis",
         "customdata": {
          "bdata": "AAAAwEJYYUGrideJv9UbQAAAAADEvBZBlGvPft5IFkAAAAAALFMUQY8gGv38FhZAAAAAAHhlEEG2jTkYeLcVQAAAAAAg2wpBTjJ/o6ZeFUAAAAAAYKsKQYNSjSyNWxVAAAAAAEAh+UCQdv4e2wwUQAAAAABgwvRAwAu0G+O3E0AAAAAAACLpQCIDnUqo2BJAAAAAAEAw6EDHuYU/oMcSQAAAAADAiOBA91ThV3AeEkAAAAAAwHDdQPSz8L3C6hFAAAAAAAAL20DQn4yk/MQRQAAAAABAWdlA72SBtzaoEUAAAAAAQNDTQOefGiWoOhFAAAAAAADBzEALDKk5B6wQQAAAAACAccpA17ALC8eGEEAAAAAAgILFQHxeJKbzKhBAAAAAAICExEA981Kv8xUQQAAAAAAAsL1As9dh9AUMD0AAAAAAAEq8QLBNWfEc4Q5AAAAAAAABu0D+A+AIxLcOQAAAAAAAVrpAv/rvw32hDkAAAAAAABO6QMZ4PgScmA5AAAAAAABbtkDgiy/SxA8OQAAAAAAAXrVAFOKRhY/nDUAAAAAAABO0QJX5hW4NsA1AAAAAAACQrEChtMGoR4EMQAAAAAAAhKhArfKuuW35C0AAAAAAAM6mQLK4+KQauQtAAAAAAADcpUD2CHFBdpMLQAAAAAAA5KNA7sh+Gow/C0AAAAAAADqiQHPF/dve8QpAAAAAAACQnkA3HiCSLVUKQAAAAAAA9JFAgA06Jk98CEAAAAAAAOCFQBtw5s4HxAZAAAAAAADwhECv8FeyIJ0GQAAAAAAA8IBAFoapu97gBUAAAAAAAKB+QPBPvLtVhwVAAAAAAADAe0ATlJlf1y8FQAAAAAAAkHhAKQ/thZPDBEAAAAAAAABUQP3VT5Ynif4/AAAAAAAAOkB+4Luw3eb2Pw==",
          "dtype": "f8",
          "shape": "43, 2"
         },
         "geo": "geo",
         "hovertemplate": "<b>%{hovertext}</b><br><br>Country=%{location}<br>Quantity=%{customdata[0]:.2f}<extra></extra>",
         "hovertext": [
          "United Kingdom",
          "Netherlands",
          "Ireland",
          "France",
          "Denmark",
          "Germany",
          "Australia",
          "Sweden",
          "Switzerland",
          "Spain",
          "Belgium",
          "Japan",
          "Portugal",
          "Norway",
          "Guernsey",
          "Italy",
          "Finland",
          "Austria",
          "Cyprus",
          "Greece",
          "United Arab Emirates",
          "Singapore",
          "Hong Kong",
          "Unspecified",
          "Poland",
          "Israel",
          "United States",
          "Canada",
          "Iceland",
          "Lithuania",
          "Bermuda",
          "Thailand",
          "Malta",
          "South Africa",
          "Bahrain",
          "South Korea",
          "Czech Republic",
          "Brazil",
          "European Union",
          "Lebanon",
          "Caribbean",
          "Saudi Arabia",
          "Nigeria"
         ],
         "locationmode": "country names",
         "locations": [
          "United Kingdom",
          "Netherlands",
          "Ireland",
          "France",
          "Denmark",
          "Germany",
          "Australia",
          "Sweden",
          "Switzerland",
          "Spain",
          "Belgium",
          "Japan",
          "Portugal",
          "Norway",
          "Guernsey",
          "Italy",
          "Finland",
          "Austria",
          "Cyprus",
          "Greece",
          "United Arab Emirates",
          "Singapore",
          "Hong Kong",
          "Unspecified",
          "Poland",
          "Israel",
          "United States",
          "Canada",
          "Iceland",
          "Lithuania",
          "Bermuda",
          "Thailand",
          "Malta",
          "South Africa",
          "Bahrain",
          "South Korea",
          "Czech Republic",
          "Brazil",
          "European Union",
          "Lebanon",
          "Caribbean",
          "Saudi Arabia",
          "Nigeria"
         ],
         "name": "",
         "type": "choropleth",
         "z": {
          "bdata": "q4nXib/VG0CUa89+3kgWQI8gGv38FhZAto05GHi3FUBOMn+jpl4VQINSjSyNWxVAkHb+HtsMFEDAC7Qb47cTQCIDnUqo2BJAx7mFP6DHEkD3VOFXcB4SQPSz8L3C6hFA0J+MpPzEEUDvZIG3NqgRQOefGiWoOhFACwypOQesEEDXsAsLx4YQQHxeJKbzKhBAPfNSr/MVEECz12H0BQwPQLBNWfEc4Q5A/gPgCMS3DkC/+u/DfaEOQMZ4PgScmA5A4Isv0sQPDkAU4pGFj+cNQJX5hW4NsA1AobTBqEeBDECt8q65bfkLQLK4+KQauQtA9ghxQXaTC0DuyH4ajD8LQHPF/dve8QpANx4gki1VCkCADTomT3wIQBtw5s4HxAZAr/BXsiCdBkAWhqm73uAFQPBPvLtVhwVAE5SZX9cvBUApD+2Fk8MEQP3VT5Ynif4/fuC7sN3m9j8=",
          "dtype": "f8"
         }
        }
       ],
       "layout": {
        "coloraxis": {
         "colorbar": {
          "title": {
           "text": "Log10 de Quantidade Vendida"
          }
         },
         "colorscale": [
          [
           0,
           "rgb(247,252,245)"
          ],
          [
           0.125,
           "rgb(229,245,224)"
          ],
          [
           0.25,
           "rgb(199,233,192)"
          ],
          [
           0.375,
           "rgb(161,217,155)"
          ],
          [
           0.5,
           "rgb(116,196,118)"
          ],
          [
           0.625,
           "rgb(65,171,93)"
          ],
          [
           0.75,
           "rgb(35,139,69)"
          ],
          [
           0.875,
           "rgb(0,109,44)"
          ],
          [
           1,
           "rgb(0,68,27)"
          ]
         ]
        },
        "font": {
         "family": "Arial",
         "size": 14
        },
        "geo": {
         "bgcolor": "rgba(0,0,0,0)",
         "center": {},
         "coastlinecolor": "RebeccaPurple",
         "domain": {
          "x": [
           0,
           1
          ],
          "y": [
           0,
           1
          ]
         },
         "projection": {
          "type": "natural earth"
         },
         "showcoastlines": true,
         "showframe": false
        },
        "height": 700,
        "legend": {
         "tracegroupgap": 0
        },
        "margin": {
         "b": 0,
         "l": 0,
         "r": 0,
         "t": 50
        },
        "template": {
         "data": {
          "bar": [
           {
            "error_x": {
             "color": "#2a3f5f"
            },
            "error_y": {
             "color": "#2a3f5f"
            },
            "marker": {
             "line": {
              "color": "#E5ECF6",
              "width": 0.5
             },
             "pattern": {
              "fillmode": "overlay",
              "size": 10,
              "solidity": 0.2
             }
            },
            "type": "bar"
           }
          ],
          "barpolar": [
           {
            "marker": {
             "line": {
              "color": "#E5ECF6",
              "width": 0.5
             },
             "pattern": {
              "fillmode": "overlay",
              "size": 10,
              "solidity": 0.2
             }
            },
            "type": "barpolar"
           }
          ],
          "carpet": [
           {
            "aaxis": {
             "endlinecolor": "#2a3f5f",
             "gridcolor": "white",
             "linecolor": "white",
             "minorgridcolor": "white",
             "startlinecolor": "#2a3f5f"
            },
            "baxis": {
             "endlinecolor": "#2a3f5f",
             "gridcolor": "white",
             "linecolor": "white",
             "minorgridcolor": "white",
             "startlinecolor": "#2a3f5f"
            },
            "type": "carpet"
           }
          ],
          "choropleth": [
           {
            "colorbar": {
             "outlinewidth": 0,
             "ticks": ""
            },
            "type": "choropleth"
           }
          ],
          "contour": [
           {
            "colorbar": {
             "outlinewidth": 0,
             "ticks": ""
            },
            "colorscale": [
             [
              0,
              "#0d0887"
             ],
             [
              0.1111111111111111,
              "#46039f"
             ],
             [
              0.2222222222222222,
              "#7201a8"
             ],
             [
              0.3333333333333333,
              "#9c179e"
             ],
             [
              0.4444444444444444,
              "#bd3786"
             ],
             [
              0.5555555555555556,
              "#d8576b"
             ],
             [
              0.6666666666666666,
              "#ed7953"
             ],
             [
              0.7777777777777778,
              "#fb9f3a"
             ],
             [
              0.8888888888888888,
              "#fdca26"
             ],
             [
              1,
              "#f0f921"
             ]
            ],
            "type": "contour"
           }
          ],
          "contourcarpet": [
           {
            "colorbar": {
             "outlinewidth": 0,
             "ticks": ""
            },
            "type": "contourcarpet"
           }
          ],
          "heatmap": [
           {
            "colorbar": {
             "outlinewidth": 0,
             "ticks": ""
            },
            "colorscale": [
             [
              0,
              "#0d0887"
             ],
             [
              0.1111111111111111,
              "#46039f"
             ],
             [
              0.2222222222222222,
              "#7201a8"
             ],
             [
              0.3333333333333333,
              "#9c179e"
             ],
             [
              0.4444444444444444,
              "#bd3786"
             ],
             [
              0.5555555555555556,
              "#d8576b"
             ],
             [
              0.6666666666666666,
              "#ed7953"
             ],
             [
              0.7777777777777778,
              "#fb9f3a"
             ],
             [
              0.8888888888888888,
              "#fdca26"
             ],
             [
              1,
              "#f0f921"
             ]
            ],
            "type": "heatmap"
           }
          ],
          "histogram": [
           {
            "marker": {
             "pattern": {
              "fillmode": "overlay",
              "size": 10,
              "solidity": 0.2
             }
            },
            "type": "histogram"
           }
          ],
          "histogram2d": [
           {
            "colorbar": {
             "outlinewidth": 0,
             "ticks": ""
            },
            "colorscale": [
             [
              0,
              "#0d0887"
             ],
             [
              0.1111111111111111,
              "#46039f"
             ],
             [
              0.2222222222222222,
              "#7201a8"
             ],
             [
              0.3333333333333333,
              "#9c179e"
             ],
             [
              0.4444444444444444,
              "#bd3786"
             ],
             [
              0.5555555555555556,
              "#d8576b"
             ],
             [
              0.6666666666666666,
              "#ed7953"
             ],
             [
              0.7777777777777778,
              "#fb9f3a"
             ],
             [
              0.8888888888888888,
              "#fdca26"
             ],
             [
              1,
              "#f0f921"
             ]
            ],
            "type": "histogram2d"
           }
          ],
          "histogram2dcontour": [
           {
            "colorbar": {
             "outlinewidth": 0,
             "ticks": ""
            },
            "colorscale": [
             [
              0,
              "#0d0887"
             ],
             [
              0.1111111111111111,
              "#46039f"
             ],
             [
              0.2222222222222222,
              "#7201a8"
             ],
             [
              0.3333333333333333,
              "#9c179e"
             ],
             [
              0.4444444444444444,
              "#bd3786"
             ],
             [
              0.5555555555555556,
              "#d8576b"
             ],
             [
              0.6666666666666666,
              "#ed7953"
             ],
             [
              0.7777777777777778,
              "#fb9f3a"
             ],
             [
              0.8888888888888888,
              "#fdca26"
             ],
             [
              1,
              "#f0f921"
             ]
            ],
            "type": "histogram2dcontour"
           }
          ],
          "mesh3d": [
           {
            "colorbar": {
             "outlinewidth": 0,
             "ticks": ""
            },
            "type": "mesh3d"
           }
          ],
          "parcoords": [
           {
            "line": {
             "colorbar": {
              "outlinewidth": 0,
              "ticks": ""
             }
            },
            "type": "parcoords"
           }
          ],
          "pie": [
           {
            "automargin": true,
            "type": "pie"
           }
          ],
          "scatter": [
           {
            "fillpattern": {
             "fillmode": "overlay",
             "size": 10,
             "solidity": 0.2
            },
            "type": "scatter"
           }
          ],
          "scatter3d": [
           {
            "line": {
             "colorbar": {
              "outlinewidth": 0,
              "ticks": ""
             }
            },
            "marker": {
             "colorbar": {
              "outlinewidth": 0,
              "ticks": ""
             }
            },
            "type": "scatter3d"
           }
          ],
          "scattercarpet": [
           {
            "marker": {
             "colorbar": {
              "outlinewidth": 0,
              "ticks": ""
             }
            },
            "type": "scattercarpet"
           }
          ],
          "scattergeo": [
           {
            "marker": {
             "colorbar": {
              "outlinewidth": 0,
              "ticks": ""
             }
            },
            "type": "scattergeo"
           }
          ],
          "scattergl": [
           {
            "marker": {
             "colorbar": {
              "outlinewidth": 0,
              "ticks": ""
             }
            },
            "type": "scattergl"
           }
          ],
          "scattermap": [
           {
            "marker": {
             "colorbar": {
              "outlinewidth": 0,
              "ticks": ""
             }
            },
            "type": "scattermap"
           }
          ],
          "scattermapbox": [
           {
            "marker": {
             "colorbar": {
              "outlinewidth": 0,
              "ticks": ""
             }
            },
            "type": "scattermapbox"
           }
          ],
          "scatterpolar": [
           {
            "marker": {
             "colorbar": {
              "outlinewidth": 0,
              "ticks": ""
             }
            },
            "type": "scatterpolar"
           }
          ],
          "scatterpolargl": [
           {
            "marker": {
             "colorbar": {
              "outlinewidth": 0,
              "ticks": ""
             }
            },
            "type": "scatterpolargl"
           }
          ],
          "scatterternary": [
           {
            "marker": {
             "colorbar": {
              "outlinewidth": 0,
              "ticks": ""
             }
            },
            "type": "scatterternary"
           }
          ],
          "surface": [
           {
            "colorbar": {
             "outlinewidth": 0,
             "ticks": ""
            },
            "colorscale": [
             [
              0,
              "#0d0887"
             ],
             [
              0.1111111111111111,
              "#46039f"
             ],
             [
              0.2222222222222222,
              "#7201a8"
             ],
             [
              0.3333333333333333,
              "#9c179e"
             ],
             [
              0.4444444444444444,
              "#bd3786"
             ],
             [
              0.5555555555555556,
              "#d8576b"
             ],
             [
              0.6666666666666666,
              "#ed7953"
             ],
             [
              0.7777777777777778,
              "#fb9f3a"
             ],
             [
              0.8888888888888888,
              "#fdca26"
             ],
             [
              1,
              "#f0f921"
             ]
            ],
            "type": "surface"
           }
          ],
          "table": [
           {
            "cells": {
             "fill": {
              "color": "#EBF0F8"
             },
             "line": {
              "color": "white"
             }
            },
            "header": {
             "fill": {
              "color": "#C8D4E3"
             },
             "line": {
              "color": "white"
             }
            },
            "type": "table"
           }
          ]
         },
         "layout": {
          "annotationdefaults": {
           "arrowcolor": "#2a3f5f",
           "arrowhead": 0,
           "arrowwidth": 1
          },
          "autotypenumbers": "strict",
          "coloraxis": {
           "colorbar": {
            "outlinewidth": 0,
            "ticks": ""
           }
          },
          "colorscale": {
           "diverging": [
            [
             0,
             "#8e0152"
            ],
            [
             0.1,
             "#c51b7d"
            ],
            [
             0.2,
             "#de77ae"
            ],
            [
             0.3,
             "#f1b6da"
            ],
            [
             0.4,
             "#fde0ef"
            ],
            [
             0.5,
             "#f7f7f7"
            ],
            [
             0.6,
             "#e6f5d0"
            ],
            [
             0.7,
             "#b8e186"
            ],
            [
             0.8,
             "#7fbc41"
            ],
            [
             0.9,
             "#4d9221"
            ],
            [
             1,
             "#276419"
            ]
           ],
           "sequential": [
            [
             0,
             "#0d0887"
            ],
            [
             0.1111111111111111,
             "#46039f"
            ],
            [
             0.2222222222222222,
             "#7201a8"
            ],
            [
             0.3333333333333333,
             "#9c179e"
            ],
            [
             0.4444444444444444,
             "#bd3786"
            ],
            [
             0.5555555555555556,
             "#d8576b"
            ],
            [
             0.6666666666666666,
             "#ed7953"
            ],
            [
             0.7777777777777778,
             "#fb9f3a"
            ],
            [
             0.8888888888888888,
             "#fdca26"
            ],
            [
             1,
             "#f0f921"
            ]
           ],
           "sequentialminus": [
            [
             0,
             "#0d0887"
            ],
            [
             0.1111111111111111,
             "#46039f"
            ],
            [
             0.2222222222222222,
             "#7201a8"
            ],
            [
             0.3333333333333333,
             "#9c179e"
            ],
            [
             0.4444444444444444,
             "#bd3786"
            ],
            [
             0.5555555555555556,
             "#d8576b"
            ],
            [
             0.6666666666666666,
             "#ed7953"
            ],
            [
             0.7777777777777778,
             "#fb9f3a"
            ],
            [
             0.8888888888888888,
             "#fdca26"
            ],
            [
             1,
             "#f0f921"
            ]
           ]
          },
          "colorway": [
           "#636efa",
           "#EF553B",
           "#00cc96",
           "#ab63fa",
           "#FFA15A",
           "#19d3f3",
           "#FF6692",
           "#B6E880",
           "#FF97FF",
           "#FECB52"
          ],
          "font": {
           "color": "#2a3f5f"
          },
          "geo": {
           "bgcolor": "white",
           "lakecolor": "white",
           "landcolor": "#E5ECF6",
           "showlakes": true,
           "showland": true,
           "subunitcolor": "white"
          },
          "hoverlabel": {
           "align": "left"
          },
          "hovermode": "closest",
          "mapbox": {
           "style": "light"
          },
          "paper_bgcolor": "white",
          "plot_bgcolor": "#E5ECF6",
          "polar": {
           "angularaxis": {
            "gridcolor": "white",
            "linecolor": "white",
            "ticks": ""
           },
           "bgcolor": "#E5ECF6",
           "radialaxis": {
            "gridcolor": "white",
            "linecolor": "white",
            "ticks": ""
           }
          },
          "scene": {
           "xaxis": {
            "backgroundcolor": "#E5ECF6",
            "gridcolor": "white",
            "gridwidth": 2,
            "linecolor": "white",
            "showbackground": true,
            "ticks": "",
            "zerolinecolor": "white"
           },
           "yaxis": {
            "backgroundcolor": "#E5ECF6",
            "gridcolor": "white",
            "gridwidth": 2,
            "linecolor": "white",
            "showbackground": true,
            "ticks": "",
            "zerolinecolor": "white"
           },
           "zaxis": {
            "backgroundcolor": "#E5ECF6",
            "gridcolor": "white",
            "gridwidth": 2,
            "linecolor": "white",
            "showbackground": true,
            "ticks": "",
            "zerolinecolor": "white"
           }
          },
          "shapedefaults": {
           "line": {
            "color": "#2a3f5f"
           }
          },
          "ternary": {
           "aaxis": {
            "gridcolor": "white",
            "linecolor": "white",
            "ticks": ""
           },
           "baxis": {
            "gridcolor": "white",
            "linecolor": "white",
            "ticks": ""
           },
           "bgcolor": "#E5ECF6",
           "caxis": {
            "gridcolor": "white",
            "linecolor": "white",
            "ticks": ""
           }
          },
          "title": {
           "x": 0.05
          },
          "xaxis": {
           "automargin": true,
           "gridcolor": "white",
           "linecolor": "white",
           "ticks": "",
           "title": {
            "standoff": 15
           },
           "zerolinecolor": "white",
           "zerolinewidth": 2
          },
          "yaxis": {
           "automargin": true,
           "gridcolor": "white",
           "linecolor": "white",
           "ticks": "",
           "title": {
            "standoff": 15
           },
           "zerolinecolor": "white",
           "zerolinewidth": 2
          }
         }
        },
        "title": {
         "text": "🌍 Quantidade Total por País (Escala Logarítmica)"
        },
        "width": 1500
       }
      }
     },
     "metadata": {},
     "output_type": "display_data"
    }
   ],
   "source": [
    "# Criar uma nova coluna com o logaritmo da quantidade vendida\n",
    "# Adiciona-se +1 para evitar erro em casos onde a quantidade seja zero\n",
    "quantidade_por_pais['log_Quantity'] = np.log10(quantidade_por_pais['Quantity'] + 1)\n",
    "\n",
    "# Criar um mapa coroplético (choropleth map) com Plotly Express\n",
    "# A cor representa a quantidade total vendida (transformada em escala log)\n",
    "fig = px.choropleth(\n",
    "    quantidade_por_pais,\n",
    "    locations='Country',                # coluna com o nome dos países\n",
    "    locationmode='country names',       # usa nomes completos para localizar os países no mapa\n",
    "    color='log_Quantity',               # cor baseada na quantidade (log)\n",
    "    color_continuous_scale='Greens',    # escala de cor em tons de verde\n",
    "    title='🌍 Quantidade Total por País (Escala Logarítmica)',\n",
    "    hover_name='Country',               # mostra o nome do país ao passar o mouse\n",
    "    hover_data={\n",
    "        'Quantity': ':.2f',             # mostra a quantidade real com duas casas decimais\n",
    "        'log_Quantity': False           # oculta o valor logarítmico no hover\n",
    "    },\n",
    ")\n",
    "\n",
    "# Ajustar o título da barra de cores (colorbar)\n",
    "fig.update_coloraxes(colorbar_title='Log10 de Quantidade Vendida')\n",
    "\n",
    "# Personalizações do layout e mapa\n",
    "fig.update_layout(\n",
    "    geo=dict(\n",
    "        showframe=False,               # remove a moldura ao redor do mapa\n",
    "        showcoastlines=True,           # ativa linhas de costa\n",
    "        coastlinecolor=\"RebeccaPurple\",# define a cor das linhas de costa\n",
    "        projection_type='natural earth', # usa projeção mais realista dos continentes\n",
    "        bgcolor='rgba(0,0,0,0)',       # fundo transparente\n",
    "    ),\n",
    "    margin=dict(l=0, r=0, t=50, b=0),   # margens do gráfico\n",
    "    font=dict(family=\"Arial\", size=14),# fonte do gráfico\n",
    "    width=1500,                         # largura do mapa\n",
    "    height=700,                         # altura do mapa\n",
    ")\n",
    "\n",
    "# Exibir o gráfico\n",
    "fig.show()"
   ]
  },
  {
   "attachments": {
    "image.png": {
     "image/png": "[encoded data removed]"
    }
   },
   "cell_type": "markdown",
   "id": "d3cf1eb9",
   "metadata": {},
   "source": [
    "![image.png](attachment:image.png)"
   ]
  },
  {
   "cell_type": "code",
   "execution_count": 21,
   "id": "2cd6a712",
   "metadata": {},
   "outputs": [],
   "source": [
    "# Importa pycountry_convert para converter nomes de países em códigos ISO e continentes\n",
    "import pycountry_convert as pc\n",
    "\n",
    "def get_continent(country_name):\n",
    "    # Mapeamento manual para nomes especiais ou diferentes da base padrão\n",
    "    custom_map = {\n",
    "        'European Union': 'Europe',\n",
    "        'Caribbean': 'North America',\n",
    "        'Guernsey': 'Europe',\n",
    "        'Bermuda': 'North America',\n",
    "        'Hong Kong': 'Asia',\n",
    "        'South Korea': 'Asia',\n",
    "        'USA': 'North America',\n",
    "        'United States': 'North America'\n",
    "    }\n",
    "\n",
    "    if country_name in custom_map:\n",
    "        return custom_map[country_name]\n",
    "\n",
    "    try:\n",
    "        country_code = pc.country_name_to_country_alpha2(country_name)\n",
    "        continent_code = pc.country_alpha2_to_continent_code(country_code)\n",
    "        continent_dict = {\n",
    "            'AF': 'Africa',\n",
    "            'NA': 'North America',\n",
    "            'OC': 'Oceania',\n",
    "            'AN': 'Antarctica',\n",
    "            'AS': 'Asia',\n",
    "            'EU': 'Europe',\n",
    "            'SA': 'South America'\n",
    "        }\n",
    "        return continent_dict[continent_code]\n",
    "    except:\n",
    "        return 'Unknown'\n",
    "\n",
    "# Aplica a função para criar a coluna 'Continent'\n",
    "df_sales['Continent'] = df_sales['Country'].apply(get_continent)"
   ]
  },
  {
   "cell_type": "code",
   "execution_count": 22,
   "id": "8e7aae4b",
   "metadata": {},
   "outputs": [],
   "source": [
    "# DataFrame com os resultados consolidados por Continente\n",
    "df_continente = (\n",
    "    df_sales.groupby('Continent')[['TotalPrice', 'Quantity']]\n",
    "    .sum()\n",
    "    .reset_index()\n",
    ")"
   ]
  },
  {
   "cell_type": "code",
   "execution_count": 23,
   "id": "a3834f7c",
   "metadata": {},
   "outputs": [
    {
     "data": {
      "text/html": [
       "<div>\n",
       "<style scoped>\n",
       "    .dataframe tbody tr th:only-of-type {\n",
       "        vertical-align: middle;\n",
       "    }\n",
       "\n",
       "    .dataframe tbody tr th {\n",
       "        vertical-align: top;\n",
       "    }\n",
       "\n",
       "    .dataframe thead th {\n",
       "        text-align: right;\n",
       "    }\n",
       "</style>\n",
       "<table border=\"1\" class=\"dataframe\">\n",
       "  <thead>\n",
       "    <tr style=\"text-align: right;\">\n",
       "      <th></th>\n",
       "      <th>Continent</th>\n",
       "      <th>TotalPrice</th>\n",
       "      <th>Quantity</th>\n",
       "    </tr>\n",
       "  </thead>\n",
       "  <tbody>\n",
       "    <tr>\n",
       "      <th>0</th>\n",
       "      <td>Africa</td>\n",
       "      <td>3422.05</td>\n",
       "      <td>1982</td>\n",
       "    </tr>\n",
       "    <tr>\n",
       "      <th>1</th>\n",
       "      <td>Asia</td>\n",
       "      <td>124367.95</td>\n",
       "      <td>71938</td>\n",
       "    </tr>\n",
       "    <tr>\n",
       "      <th>2</th>\n",
       "      <td>Europe</td>\n",
       "      <td>19152605.98</td>\n",
       "      <td>10862291</td>\n",
       "    </tr>\n",
       "    <tr>\n",
       "      <th>3</th>\n",
       "      <td>North America</td>\n",
       "      <td>13808.11</td>\n",
       "      <td>11986</td>\n",
       "    </tr>\n",
       "    <tr>\n",
       "      <th>4</th>\n",
       "      <td>Oceania</td>\n",
       "      <td>165447.44</td>\n",
       "      <td>102932</td>\n",
       "    </tr>\n",
       "    <tr>\n",
       "      <th>5</th>\n",
       "      <td>South America</td>\n",
       "      <td>1394.02</td>\n",
       "      <td>542</td>\n",
       "    </tr>\n",
       "    <tr>\n",
       "      <th>6</th>\n",
       "      <td>Unknown</td>\n",
       "      <td>10878.66</td>\n",
       "      <td>6675</td>\n",
       "    </tr>\n",
       "  </tbody>\n",
       "</table>\n",
       "</div>"
      ],
      "text/plain": [
       "       Continent   TotalPrice  Quantity\n",
       "0         Africa      3422.05      1982\n",
       "1           Asia    124367.95     71938\n",
       "2         Europe  19152605.98  10862291\n",
       "3  North America     13808.11     11986\n",
       "4        Oceania    165447.44    102932\n",
       "5  South America      1394.02       542\n",
       "6        Unknown     10878.66      6675"
      ]
     },
     "execution_count": 23,
     "metadata": {},
     "output_type": "execute_result"
    }
   ],
   "source": [
    "# Visualização do DataFrame de continente e receita gerada\n",
    "df_continente"
   ]
  },
  {
   "cell_type": "code",
   "execution_count": 24,
   "id": "36288b48",
   "metadata": {},
   "outputs": [
    {
     "data": {
      "application/vnd.plotly.v1+json": {
       "config": {
        "plotlyServerURL": "https://plot.ly"
       },
       "data": [
        {
         "hovertemplate": "<b>%{hovertext}</b><br><br>Continente=Africa<br>Quantidade Vendida=%{x}<br>Receita Total (£)=%{y}<br>size_norm=%{marker.size}<extra></extra>",
         "hovertext": [
          "Africa"
         ],
         "legendgroup": "Africa",
         "marker": {
          "color": "#636efa",
          "size": {
           "bdata": "dGEZzEADJEA=",
           "dtype": "f8"
          },
          "sizemode": "area",
          "sizeref": 0.175,
          "symbol": "circle"
         },
         "mode": "markers",
         "name": "Africa",
         "orientation": "v",
         "showlegend": true,
         "type": "scatter",
         "x": {
          "bdata": "vgc=",
          "dtype": "i2"
         },
         "xaxis": "x",
         "y": {
          "bdata": "mpmZmRm8qkA=",
          "dtype": "f8"
         },
         "yaxis": "y"
        },
        {
         "hovertemplate": "<b>%{hovertext}</b><br><br>Continente=Asia<br>Quantidade Vendida=%{x}<br>Receita Total (£)=%{y}<br>size_norm=%{marker.size}<extra></extra>",
         "hovertext": [
          "Asia"
         ],
         "legendgroup": "Asia",
         "marker": {
          "color": "#EF553B",
          "size": {
           "bdata": "tvDCcELFJEA=",
           "dtype": "f8"
          },
          "sizemode": "area",
          "sizeref": 0.175,
          "symbol": "circle"
         },
         "mode": "markers",
         "name": "Asia",
         "orientation": "v",
         "showlegend": true,
         "type": "scatter",
         "x": {
          "bdata": "AhkBAA==",
          "dtype": "i4"
         },
         "xaxis": "x",
         "y": {
          "bdata": "MzMzM/9c/kA=",
          "dtype": "f8"
         },
         "yaxis": "y"
        },
        {
         "hovertemplate": "<b>%{hovertext}</b><br><br>Continente=Europe<br>Quantidade Vendida=%{x}<br>Receita Total (£)=%{y}<br>size_norm=%{marker.size}<extra></extra>",
         "hovertext": [
          "Europe"
         ],
         "legendgroup": "Europe",
         "marker": {
          "color": "#00cc96",
          "size": {
           "bdata": "AAAAAACAUUA=",
           "dtype": "f8"
          },
          "sizemode": "area",
          "sizeref": 0.175,
          "symbol": "circle"
         },
         "mode": "markers",
         "name": "Europe",
         "orientation": "v",
         "showlegend": true,
         "type": "scatter",
         "x": {
          "bdata": "076lAA==",
          "dtype": "i4"
         },
         "xaxis": "x",
         "y": {
          "bdata": "exSu3+1DckE=",
          "dtype": "f8"
         },
         "yaxis": "y"
        },
        {
         "hovertemplate": "<b>%{hovertext}</b><br><br>Continente=North America<br>Quantidade Vendida=%{x}<br>Receita Total (£)=%{y}<br>size_norm=%{marker.size}<extra></extra>",
         "hovertext": [
          "North America"
         ],
         "legendgroup": "North America",
         "marker": {
          "color": "#ab63fa",
          "size": {
           "bdata": "/vzQw+kTJEA=",
           "dtype": "f8"
          },
          "sizemode": "area",
          "sizeref": 0.175,
          "symbol": "circle"
         },
         "mode": "markers",
         "name": "North America",
         "orientation": "v",
         "showlegend": true,
         "type": "scatter",
         "x": {
          "bdata": "0i4=",
          "dtype": "i2"
         },
         "xaxis": "x",
         "y": {
          "bdata": "SOF6FA74ykA=",
          "dtype": "f8"
         },
         "yaxis": "y"
        },
        {
         "hovertemplate": "<b>%{hovertext}</b><br><br>Continente=Oceania<br>Quantidade Vendida=%{x}<br>Receita Total (£)=%{y}<br>size_norm=%{marker.size}<extra></extra>",
         "hovertext": [
          "Oceania"
         ],
         "legendgroup": "Oceania",
         "marker": {
          "color": "#FFA15A",
          "size": {
           "bdata": "M+jpdicHJUA=",
           "dtype": "f8"
          },
          "sizemode": "area",
          "sizeref": 0.175,
          "symbol": "circle"
         },
         "mode": "markers",
         "name": "Oceania",
         "orientation": "v",
         "showlegend": true,
         "type": "scatter",
         "x": {
          "bdata": "FJIBAA==",
          "dtype": "i4"
         },
         "xaxis": "x",
         "y": {
          "bdata": "UrgehTsyBEE=",
          "dtype": "f8"
         },
         "yaxis": "y"
        },
        {
         "hovertemplate": "<b>%{hovertext}</b><br><br>Continente=South America<br>Quantidade Vendida=%{x}<br>Receita Total (£)=%{y}<br>size_norm=%{marker.size}<extra></extra>",
         "hovertext": [
          "South America"
         ],
         "legendgroup": "South America",
         "marker": {
          "color": "#19d3f3",
          "size": {
           "bdata": "AAAAAAAAJEA=",
           "dtype": "f8"
          },
          "sizemode": "area",
          "sizeref": 0.175,
          "symbol": "circle"
         },
         "mode": "markers",
         "name": "South America",
         "orientation": "v",
         "showlegend": true,
         "type": "scatter",
         "x": {
          "bdata": "HgI=",
          "dtype": "i2"
         },
         "xaxis": "x",
         "y": {
          "bdata": "rkfhehTIlUA=",
          "dtype": "f8"
         },
         "yaxis": "y"
        },
        {
         "hovertemplate": "<b>%{hovertext}</b><br><br>Continente=Unknown<br>Quantidade Vendida=%{x}<br>Receita Total (£)=%{y}<br>size_norm=%{marker.size}<extra></extra>",
         "hovertext": [
          "Unknown"
         ],
         "legendgroup": "Unknown",
         "marker": {
          "color": "#FF6692",
          "size": {
           "bdata": "tawvzjYPJEA=",
           "dtype": "f8"
          },
          "sizemode": "area",
          "sizeref": 0.175,
          "symbol": "circle"
         },
         "mode": "markers",
         "name": "Unknown",
         "orientation": "v",
         "showlegend": true,
         "type": "scatter",
         "x": {
          "bdata": "Exo=",
          "dtype": "i2"
         },
         "xaxis": "x",
         "y": {
          "bdata": "rkfhelQ/xUA=",
          "dtype": "f8"
         },
         "yaxis": "y"
        }
       ],
       "layout": {
        "height": 700,
        "legend": {
         "itemsizing": "constant",
         "title": {
          "text": "Continente"
         },
         "tracegroupgap": 0
        },
        "template": {
         "data": {
          "bar": [
           {
            "error_x": {
             "color": "#2a3f5f"
            },
            "error_y": {
             "color": "#2a3f5f"
            },
            "marker": {
             "line": {
              "color": "#E5ECF6",
              "width": 0.5
             },
             "pattern": {
              "fillmode": "overlay",
              "size": 10,
              "solidity": 0.2
             }
            },
            "type": "bar"
           }
          ],
          "barpolar": [
           {
            "marker": {
             "line": {
              "color": "#E5ECF6",
              "width": 0.5
             },
             "pattern": {
              "fillmode": "overlay",
              "size": 10,
              "solidity": 0.2
             }
            },
            "type": "barpolar"
           }
          ],
          "carpet": [
           {
            "aaxis": {
             "endlinecolor": "#2a3f5f",
             "gridcolor": "white",
             "linecolor": "white",
             "minorgridcolor": "white",
             "startlinecolor": "#2a3f5f"
            },
            "baxis": {
             "endlinecolor": "#2a3f5f",
             "gridcolor": "white",
             "linecolor": "white",
             "minorgridcolor": "white",
             "startlinecolor": "#2a3f5f"
            },
            "type": "carpet"
           }
          ],
          "choropleth": [
           {
            "colorbar": {
             "outlinewidth": 0,
             "ticks": ""
            },
            "type": "choropleth"
           }
          ],
          "contour": [
           {
            "colorbar": {
             "outlinewidth": 0,
             "ticks": ""
            },
            "colorscale": [
             [
              0,
              "#0d0887"
             ],
             [
              0.1111111111111111,
              "#46039f"
             ],
             [
              0.2222222222222222,
              "#7201a8"
             ],
             [
              0.3333333333333333,
              "#9c179e"
             ],
             [
              0.4444444444444444,
              "#bd3786"
             ],
             [
              0.5555555555555556,
              "#d8576b"
             ],
             [
              0.6666666666666666,
              "#ed7953"
             ],
             [
              0.7777777777777778,
              "#fb9f3a"
             ],
             [
              0.8888888888888888,
              "#fdca26"
             ],
             [
              1,
              "#f0f921"
             ]
            ],
            "type": "contour"
           }
          ],
          "contourcarpet": [
           {
            "colorbar": {
             "outlinewidth": 0,
             "ticks": ""
            },
            "type": "contourcarpet"
           }
          ],
          "heatmap": [
           {
            "colorbar": {
             "outlinewidth": 0,
             "ticks": ""
            },
            "colorscale": [
             [
              0,
              "#0d0887"
             ],
             [
              0.1111111111111111,
              "#46039f"
             ],
             [
              0.2222222222222222,
              "#7201a8"
             ],
             [
              0.3333333333333333,
              "#9c179e"
             ],
             [
              0.4444444444444444,
              "#bd3786"
             ],
             [
              0.5555555555555556,
              "#d8576b"
             ],
             [
              0.6666666666666666,
              "#ed7953"
             ],
             [
              0.7777777777777778,
              "#fb9f3a"
             ],
             [
              0.8888888888888888,
              "#fdca26"
             ],
             [
              1,
              "#f0f921"
             ]
            ],
            "type": "heatmap"
           }
          ],
          "histogram": [
           {
            "marker": {
             "pattern": {
              "fillmode": "overlay",
              "size": 10,
              "solidity": 0.2
             }
            },
            "type": "histogram"
           }
          ],
          "histogram2d": [
           {
            "colorbar": {
             "outlinewidth": 0,
             "ticks": ""
            },
            "colorscale": [
             [
              0,
              "#0d0887"
             ],
             [
              0.1111111111111111,
              "#46039f"
             ],
             [
              0.2222222222222222,
              "#7201a8"
             ],
             [
              0.3333333333333333,
              "#9c179e"
             ],
             [
              0.4444444444444444,
              "#bd3786"
             ],
             [
              0.5555555555555556,
              "#d8576b"
             ],
             [
              0.6666666666666666,
              "#ed7953"
             ],
             [
              0.7777777777777778,
              "#fb9f3a"
             ],
             [
              0.8888888888888888,
              "#fdca26"
             ],
             [
              1,
              "#f0f921"
             ]
            ],
            "type": "histogram2d"
           }
          ],
          "histogram2dcontour": [
           {
            "colorbar": {
             "outlinewidth": 0,
             "ticks": ""
            },
            "colorscale": [
             [
              0,
              "#0d0887"
             ],
             [
              0.1111111111111111,
              "#46039f"
             ],
             [
              0.2222222222222222,
              "#7201a8"
             ],
             [
              0.3333333333333333,
              "#9c179e"
             ],
             [
              0.4444444444444444,
              "#bd3786"
             ],
             [
              0.5555555555555556,
              "#d8576b"
             ],
             [
              0.6666666666666666,
              "#ed7953"
             ],
             [
              0.7777777777777778,
              "#fb9f3a"
             ],
             [
              0.8888888888888888,
              "#fdca26"
             ],
             [
              1,
              "#f0f921"
             ]
            ],
            "type": "histogram2dcontour"
           }
          ],
          "mesh3d": [
           {
            "colorbar": {
             "outlinewidth": 0,
             "ticks": ""
            },
            "type": "mesh3d"
           }
          ],
          "parcoords": [
           {
            "line": {
             "colorbar": {
              "outlinewidth": 0,
              "ticks": ""
             }
            },
            "type": "parcoords"
           }
          ],
          "pie": [
           {
            "automargin": true,
            "type": "pie"
           }
          ],
          "scatter": [
           {
            "fillpattern": {
             "fillmode": "overlay",
             "size": 10,
             "solidity": 0.2
            },
            "type": "scatter"
           }
          ],
          "scatter3d": [
           {
            "line": {
             "colorbar": {
              "outlinewidth": 0,
              "ticks": ""
             }
            },
            "marker": {
             "colorbar": {
              "outlinewidth": 0,
              "ticks": ""
             }
            },
            "type": "scatter3d"
           }
          ],
          "scattercarpet": [
           {
            "marker": {
             "colorbar": {
              "outlinewidth": 0,
              "ticks": ""
             }
            },
            "type": "scattercarpet"
           }
          ],
          "scattergeo": [
           {
            "marker": {
             "colorbar": {
              "outlinewidth": 0,
              "ticks": ""
             }
            },
            "type": "scattergeo"
           }
          ],
          "scattergl": [
           {
            "marker": {
             "colorbar": {
              "outlinewidth": 0,
              "ticks": ""
             }
            },
            "type": "scattergl"
           }
          ],
          "scattermap": [
           {
            "marker": {
             "colorbar": {
              "outlinewidth": 0,
              "ticks": ""
             }
            },
            "type": "scattermap"
           }
          ],
          "scattermapbox": [
           {
            "marker": {
             "colorbar": {
              "outlinewidth": 0,
              "ticks": ""
             }
            },
            "type": "scattermapbox"
           }
          ],
          "scatterpolar": [
           {
            "marker": {
             "colorbar": {
              "outlinewidth": 0,
              "ticks": ""
             }
            },
            "type": "scatterpolar"
           }
          ],
          "scatterpolargl": [
           {
            "marker": {
             "colorbar": {
              "outlinewidth": 0,
              "ticks": ""
             }
            },
            "type": "scatterpolargl"
           }
          ],
          "scatterternary": [
           {
            "marker": {
             "colorbar": {
              "outlinewidth": 0,
              "ticks": ""
             }
            },
            "type": "scatterternary"
           }
          ],
          "surface": [
           {
            "colorbar": {
             "outlinewidth": 0,
             "ticks": ""
            },
            "colorscale": [
             [
              0,
              "#0d0887"
             ],
             [
              0.1111111111111111,
              "#46039f"
             ],
             [
              0.2222222222222222,
              "#7201a8"
             ],
             [
              0.3333333333333333,
              "#9c179e"
             ],
             [
              0.4444444444444444,
              "#bd3786"
             ],
             [
              0.5555555555555556,
              "#d8576b"
             ],
             [
              0.6666666666666666,
              "#ed7953"
             ],
             [
              0.7777777777777778,
              "#fb9f3a"
             ],
             [
              0.8888888888888888,
              "#fdca26"
             ],
             [
              1,
              "#f0f921"
             ]
            ],
            "type": "surface"
           }
          ],
          "table": [
           {
            "cells": {
             "fill": {
              "color": "#EBF0F8"
             },
             "line": {
              "color": "white"
             }
            },
            "header": {
             "fill": {
              "color": "#C8D4E3"
             },
             "line": {
              "color": "white"
             }
            },
            "type": "table"
           }
          ]
         },
         "layout": {
          "annotationdefaults": {
           "arrowcolor": "#2a3f5f",
           "arrowhead": 0,
           "arrowwidth": 1
          },
          "autotypenumbers": "strict",
          "coloraxis": {
           "colorbar": {
            "outlinewidth": 0,
            "ticks": ""
           }
          },
          "colorscale": {
           "diverging": [
            [
             0,
             "#8e0152"
            ],
            [
             0.1,
             "#c51b7d"
            ],
            [
             0.2,
             "#de77ae"
            ],
            [
             0.3,
             "#f1b6da"
            ],
            [
             0.4,
             "#fde0ef"
            ],
            [
             0.5,
             "#f7f7f7"
            ],
            [
             0.6,
             "#e6f5d0"
            ],
            [
             0.7,
             "#b8e186"
            ],
            [
             0.8,
             "#7fbc41"
            ],
            [
             0.9,
             "#4d9221"
            ],
            [
             1,
             "#276419"
            ]
           ],
           "sequential": [
            [
             0,
             "#0d0887"
            ],
            [
             0.1111111111111111,
             "#46039f"
            ],
            [
             0.2222222222222222,
             "#7201a8"
            ],
            [
             0.3333333333333333,
             "#9c179e"
            ],
            [
             0.4444444444444444,
             "#bd3786"
            ],
            [
             0.5555555555555556,
             "#d8576b"
            ],
            [
             0.6666666666666666,
             "#ed7953"
            ],
            [
             0.7777777777777778,
             "#fb9f3a"
            ],
            [
             0.8888888888888888,
             "#fdca26"
            ],
            [
             1,
             "#f0f921"
            ]
           ],
           "sequentialminus": [
            [
             0,
             "#0d0887"
            ],
            [
             0.1111111111111111,
             "#46039f"
            ],
            [
             0.2222222222222222,
             "#7201a8"
            ],
            [
             0.3333333333333333,
             "#9c179e"
            ],
            [
             0.4444444444444444,
             "#bd3786"
            ],
            [
             0.5555555555555556,
             "#d8576b"
            ],
            [
             0.6666666666666666,
             "#ed7953"
            ],
            [
             0.7777777777777778,
             "#fb9f3a"
            ],
            [
             0.8888888888888888,
             "#fdca26"
            ],
            [
             1,
             "#f0f921"
            ]
           ]
          },
          "colorway": [
           "#636efa",
           "#EF553B",
           "#00cc96",
           "#ab63fa",
           "#FFA15A",
           "#19d3f3",
           "#FF6692",
           "#B6E880",
           "#FF97FF",
           "#FECB52"
          ],
          "font": {
           "color": "#2a3f5f"
          },
          "geo": {
           "bgcolor": "white",
           "lakecolor": "white",
           "landcolor": "#E5ECF6",
           "showlakes": true,
           "showland": true,
           "subunitcolor": "white"
          },
          "hoverlabel": {
           "align": "left"
          },
          "hovermode": "closest",
          "mapbox": {
           "style": "light"
          },
          "paper_bgcolor": "white",
          "plot_bgcolor": "#E5ECF6",
          "polar": {
           "angularaxis": {
            "gridcolor": "white",
            "linecolor": "white",
            "ticks": ""
           },
           "bgcolor": "#E5ECF6",
           "radialaxis": {
            "gridcolor": "white",
            "linecolor": "white",
            "ticks": ""
           }
          },
          "scene": {
           "xaxis": {
            "backgroundcolor": "#E5ECF6",
            "gridcolor": "white",
            "gridwidth": 2,
            "linecolor": "white",
            "showbackground": true,
            "ticks": "",
            "zerolinecolor": "white"
           },
           "yaxis": {
            "backgroundcolor": "#E5ECF6",
            "gridcolor": "white",
            "gridwidth": 2,
            "linecolor": "white",
            "showbackground": true,
            "ticks": "",
            "zerolinecolor": "white"
           },
           "zaxis": {
            "backgroundcolor": "#E5ECF6",
            "gridcolor": "white",
            "gridwidth": 2,
            "linecolor": "white",
            "showbackground": true,
            "ticks": "",
            "zerolinecolor": "white"
           }
          },
          "shapedefaults": {
           "line": {
            "color": "#2a3f5f"
           }
          },
          "ternary": {
           "aaxis": {
            "gridcolor": "white",
            "linecolor": "white",
            "ticks": ""
           },
           "baxis": {
            "gridcolor": "white",
            "linecolor": "white",
            "ticks": ""
           },
           "bgcolor": "#E5ECF6",
           "caxis": {
            "gridcolor": "white",
            "linecolor": "white",
            "ticks": ""
           }
          },
          "title": {
           "x": 0.05
          },
          "xaxis": {
           "automargin": true,
           "gridcolor": "white",
           "linecolor": "white",
           "ticks": "",
           "title": {
            "standoff": 15
           },
           "zerolinecolor": "white",
           "zerolinewidth": 2
          },
          "yaxis": {
           "automargin": true,
           "gridcolor": "white",
           "linecolor": "white",
           "ticks": "",
           "title": {
            "standoff": 15
           },
           "zerolinecolor": "white",
           "zerolinewidth": 2
          }
         }
        },
        "title": {
         "text": "🌎 Relação entre Quantidade Vendida e Receita por Continente (em £)"
        },
        "width": 1200,
        "xaxis": {
         "anchor": "y",
         "domain": [
          0,
          1
         ],
         "title": {
          "text": "Quantidade Vendida"
         },
         "type": "log"
        },
        "yaxis": {
         "anchor": "x",
         "domain": [
          0,
          1
         ],
         "title": {
          "text": "Receita Total (£)"
         },
         "type": "log"
        }
       }
      }
     },
     "metadata": {},
     "output_type": "display_data"
    }
   ],
   "source": [
    "# Definir tamanho mínimo e máximo para os pontos no gráfico\n",
    "min_size = 10\n",
    "max_size = 70\n",
    "\n",
    "# Normalizar a coluna 'TotalPrice' para variar entre 0 e 1\n",
    "# Depois escala para o intervalo definido (min_size a max_size)\n",
    "size_norm = (df_continente['TotalPrice'] - df_continente['TotalPrice'].min()) / (df_continente['TotalPrice'].max() - df_continente['TotalPrice'].min())\n",
    "df_continente['size_norm'] = size_norm * (max_size - min_size) + min_size\n",
    "\n",
    "# Criar gráfico de dispersão (scatter) usando Plotly Express\n",
    "fig = px.scatter(\n",
    "    df_continente,\n",
    "    x='Quantity',          # eixo X: quantidade vendida\n",
    "    y='TotalPrice',        # eixo Y: receita total\n",
    "    size='size_norm',      # tamanho do ponto proporcional à receita (normalizada)\n",
    "    color='Continent',     # cor dos pontos por continente\n",
    "    hover_name='Continent',# nome exibido ao passar o mouse\n",
    "    labels={\n",
    "        'Quantity': 'Quantidade Vendida',\n",
    "        'TotalPrice': 'Receita Total (£)',\n",
    "        'Continent': 'Continente'\n",
    "    },\n",
    "    title='🌎 Relação entre Quantidade Vendida e Receita por Continente (em £)',\n",
    ")\n",
    "\n",
    "# Ajustar layout do gráfico\n",
    "fig.update_layout(\n",
    "    xaxis=dict(title='Quantidade Vendida', type='log'),  # escala logarítmica no eixo X\n",
    "    yaxis=dict(title='Receita Total (£)', type='log'),   # escala logarítmica no eixo Y\n",
    "    width=1200,\n",
    "    height=700,\n",
    "    legend_title_text='Continente',\n",
    ")\n",
    "\n",
    "# Exibir gráfico\n",
    "fig.show()"
   ]
  },
  {
   "attachments": {
    "image.png": {
     "image/png": "[encoded data removed]"
    }
   },
   "cell_type": "markdown",
   "id": "4836e56f",
   "metadata": {},
   "source": [
    "![image.png](attachment:image.png)"
   ]
  },
  {
   "cell_type": "markdown",
   "id": "ccd57a0e",
   "metadata": {},
   "source": [
    "### 6.1 📌 Conclusão Final da Análise Geográfica de Vendas\n",
    "\n",
    "A análise geográfica, representada por um gráfico de bolhas por continente, revelou uma forte concentração das vendas na **Europa**, tanto em quantidade de produtos quanto em receita gerada. No gráfico, cada bolha representa um continente, com o tamanho proporcional à receita total em libras (£), o eixo horizontal indicando a quantidade vendida e o eixo vertical, a receita total.\n",
    "\n",
    "A **Europa** se destacou de forma esmagadora, sendo responsável por quase toda a receita da empresa, com mais de 10 milhões de produtos vendidos e aproximadamente £19 milhões em receita. Esse domínio reforça a necessidade de manter uma presença estratégica sólida na região, com foco em operações eficientes, marketing direcionado e fortalecimento de parcerias locais.\n",
    "\n",
    "Outras regiões como **Oceania** e **Ásia** apresentaram participações modestas, mas com volumes suficientes para indicar algum nível de penetração nesses mercados. Esses continentes podem representar boas oportunidades de expansão, desde que acompanhadas de estratégias adaptadas às especificidades locais.\n",
    "\n",
    "**América do Norte**, **África** e **América do Sul** mostraram volumes de vendas e receitas bastante reduzidos, o que pode indicar mercados ainda pouco explorados ou com desafios de entrada mais relevantes. Mesmo assim, são regiões que merecem atenção em futuras iniciativas comerciais.\n",
    "\n",
    "Um ponto importante da análise foi a presença do grupo **\"Unknown\"**, que representou cerca de £10 mil em receita e mais de 6 mil unidades vendidas. Esses registros não puderam ser atribuídos a nenhum país ou região específica, o que destaca a importância de melhorar a padronização e a qualidade dos dados de origem para garantir uma visão mais precisa e confiável do desempenho global.\n",
    "\n",
    "Em resumo, a análise por continente confirmou a forte dependência da Europa para os resultados da empresa, mas também revelou oportunidades de crescimento em outras regiões do mundo. Ao mesmo tempo, reforçou a importância de ações voltadas à melhoria contínua na governança dos dados."
   ]
  },
  {
   "cell_type": "markdown",
   "id": "9dac0f8a",
   "metadata": {},
   "source": [
    "## 7. Conclusão Final da Análise"
   ]
  },
  {
   "cell_type": "markdown",
   "id": "ae603be7",
   "metadata": {},
   "source": [
    "Nesta análise, foi possível consolidar diversas informações a partir de uma base de dados de vendas de uma empresa. Logo no início, identificamos **padrões temporais relevantes**, que apontam para uma **sazonalidade no final do ano**. A partir de setembro, tanto a **quantidade vendida** quanto a **receita** da empresa tendem a crescer, evidenciando um aumento significativo na demanda.\n",
    "\n",
    "Além disso, observamos que o **ano de 2011 teve desempenho inferior ao de 2010**, possivelmente devido a uma **parada ou desaceleração nas operações**. Diante desse cenário, a empresa pode adotar estratégias específicas para **alavancar o desempenho nos meses de alta**, como antecipação de estoque e campanhas promocionais focadas em datas sazonais. Por outro lado, o **primeiro semestre apresenta performance mais fraca**, o que, embora comum em negócios sazonais, representa uma **oportunidade para ações de marketing e diversificação de portfólio**.\n",
    "\n",
    "Em relação aos produtos, foi possível destacar itens que aparecem entre os **cinco mais vendidos em volume**, mas não figuram entre os que geram maior receita. Isso sugere que a empresa **vende muitos itens de baixo valor unitário**, o que impacta negativamente o **ticket médio**. Por outro lado, alguns **produtos pontuais**, que foram comercializados apenas uma vez no período analisado, demonstraram **ótimo desempenho em receita**. A empresa poderia investigar esses casos para **explorar seu potencial de forma recorrente**, aproveitando a boa aceitação do mercado.\n",
    "\n",
    "Também foi possível notar que **itens decorativos, presentes e produtos festivos** aparecem com frequência entre os destaques de vendas, o que reforça a **importância da sazonalidade e do calendário promocional** no planejamento comercial da empresa.\n",
    "\n",
    "Por fim, a análise geográfica reforça a **centralidade do Reino Unido**, responsável pela maior parte da receita e da quantidade vendida ao longo do período. Contudo, também observamos destaque em **outros continentes** além do europeu, especialmente **Oceania e Ásia**, que apresentaram **resultados similares e consistentes**. Esses mercados representam **oportunidades estratégicas** e podem ser explorados com **ações direcionadas**, como campanhas localizadas e oferta de produtos que já demonstraram bom desempenho nesses países.\n"
   ]
  }
 ],
 "metadata": {
  "kernelspec": {
   "display_name": "Python 3",
   "language": "python",
   "name": "python3"
  },
  "language_info": {
   "codemirror_mode": {
    "name": "ipython",
    "version": 3
   },
   "file_extension": ".py",
   "mimetype": "text/x-python",
   "name": "python",
   "nbconvert_exporter": "python",
   "pygments_lexer": "ipython3",
   "version": "3.12.3"
  }
 },
 "nbformat": 4,
 "nbformat_minor": 5
}
